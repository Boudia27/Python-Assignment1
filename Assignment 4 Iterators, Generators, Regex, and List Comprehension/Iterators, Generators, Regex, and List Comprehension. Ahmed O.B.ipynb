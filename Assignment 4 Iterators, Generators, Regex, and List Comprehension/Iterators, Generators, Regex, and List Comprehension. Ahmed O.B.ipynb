{
 "cells": [
  {
   "cell_type": "code",
   "execution_count": 14,
   "id": "1e247105",
   "metadata": {},
   "outputs": [],
   "source": [
    "import itertools"
   ]
  },
  {
   "cell_type": "markdown",
   "id": "a8fbf839",
   "metadata": {},
   "source": [
    "### Iterator"
   ]
  },
  {
   "cell_type": "code",
   "execution_count": 2,
   "id": "222f30b4",
   "metadata": {},
   "outputs": [
    {
     "name": "stdout",
     "output_type": "stream",
     "text": [
      "1\n",
      "2\n",
      "3\n",
      "4\n",
      "5\n"
     ]
    }
   ],
   "source": [
    "# creating a list, converting it to an iterator, and running the next() method until a StopIteration error is raised\n",
    "my_list = [1, 2, 3, 4, 5]\n",
    "my_iterator = iter(my_list)\n",
    "\n",
    "while True:\n",
    "    try:\n",
    "        print(next(my_iterator))\n",
    "    except StopIteration:\n",
    "        break"
   ]
  },
  {
   "cell_type": "markdown",
   "id": "935b3681",
   "metadata": {},
   "source": [
    "### infinite iterators"
   ]
  },
  {
   "cell_type": "code",
   "execution_count": 5,
   "id": "fca778ed",
   "metadata": {},
   "outputs": [],
   "source": [
    "# infinite iterators using count(), cycle(), and repeat() methods from itertools\n",
    "import itertools\n",
    "\n",
    "# count() returns an iterator that generates consecutive integers starting from a specified number\n",
    "count_iterator = itertools.count(start=0, step=2)\n",
    "\n",
    "# cycle() returns an iterator that repeats the values from a specified iterable indefinitely\n",
    "cycle_iterator = itertools.cycle(['A', 'B', 'C'])\n",
    "\n",
    "# repeat() returns an iterator that repeats a specified value indefinitely or a specified number of times\n",
    "repeat_iterator = itertools.repeat('Hello', times=3)\n"
   ]
  },
  {
   "cell_type": "markdown",
   "id": "1fac2696",
   "metadata": {},
   "source": [
    "### iterators terminating on the shortest input sequence"
   ]
  },
  {
   "cell_type": "code",
   "execution_count": 21,
   "id": "c254609f",
   "metadata": {},
   "outputs": [
    {
     "name": "stdout",
     "output_type": "stream",
     "text": [
      "Difference at position 8: A != T\n"
     ]
    }
   ],
   "source": [
    "seq1 = \"ATCGATCGA\"\n",
    "seq2 = \"ATCGATCGT\"\n",
    "\n",
    "# Compare sequences and print differences\n",
    "for i, (base1, base2) in enumerate(zip(seq1, seq2)):\n",
    "    if base1 != base2:\n",
    "        print(f\"Difference at position {i}: {base1} != {base2}\")\n"
   ]
  },
  {
   "cell_type": "markdown",
   "id": "1e3c2a97",
   "metadata": {},
   "source": [
    "### Combinatoric iterator"
   ]
  },
  {
   "cell_type": "code",
   "execution_count": 22,
   "id": "d2b853a4",
   "metadata": {},
   "outputs": [
    {
     "name": "stdout",
     "output_type": "stream",
     "text": [
      "('A', 'T', 'C')\n",
      "('A', 'T', 'G')\n",
      "('A', 'T', 'A')\n",
      "('A', 'T', 'G')\n",
      "('A', 'T', 'T')\n",
      "('A', 'T', 'A')\n",
      "('A', 'T', 'C')\n",
      "('A', 'T', 'G')\n",
      "('A', 'T', 'T')\n",
      "('A', 'C', 'G')\n",
      "('A', 'C', 'A')\n",
      "('A', 'C', 'G')\n",
      "('A', 'C', 'T')\n",
      "('A', 'C', 'A')\n",
      "('A', 'C', 'C')\n",
      "('A', 'C', 'G')\n",
      "('A', 'C', 'T')\n",
      "('A', 'G', 'A')\n",
      "('A', 'G', 'G')\n",
      "('A', 'G', 'T')\n",
      "('A', 'G', 'A')\n",
      "('A', 'G', 'C')\n",
      "('A', 'G', 'G')\n",
      "('A', 'G', 'T')\n",
      "('A', 'A', 'G')\n",
      "('A', 'A', 'T')\n",
      "('A', 'A', 'A')\n",
      "('A', 'A', 'C')\n",
      "('A', 'A', 'G')\n",
      "('A', 'A', 'T')\n",
      "('A', 'G', 'T')\n",
      "('A', 'G', 'A')\n",
      "('A', 'G', 'C')\n",
      "('A', 'G', 'G')\n",
      "('A', 'G', 'T')\n",
      "('A', 'T', 'A')\n",
      "('A', 'T', 'C')\n",
      "('A', 'T', 'G')\n",
      "('A', 'T', 'T')\n",
      "('A', 'A', 'C')\n",
      "('A', 'A', 'G')\n",
      "('A', 'A', 'T')\n",
      "('A', 'C', 'G')\n",
      "('A', 'C', 'T')\n",
      "('A', 'G', 'T')\n",
      "('T', 'C', 'G')\n",
      "('T', 'C', 'A')\n",
      "('T', 'C', 'G')\n",
      "('T', 'C', 'T')\n",
      "('T', 'C', 'A')\n",
      "('T', 'C', 'C')\n",
      "('T', 'C', 'G')\n",
      "('T', 'C', 'T')\n",
      "('T', 'G', 'A')\n",
      "('T', 'G', 'G')\n",
      "('T', 'G', 'T')\n",
      "('T', 'G', 'A')\n",
      "('T', 'G', 'C')\n",
      "('T', 'G', 'G')\n",
      "('T', 'G', 'T')\n",
      "('T', 'A', 'G')\n",
      "('T', 'A', 'T')\n",
      "('T', 'A', 'A')\n",
      "('T', 'A', 'C')\n",
      "('T', 'A', 'G')\n",
      "('T', 'A', 'T')\n",
      "('T', 'G', 'T')\n",
      "('T', 'G', 'A')\n",
      "('T', 'G', 'C')\n",
      "('T', 'G', 'G')\n",
      "('T', 'G', 'T')\n",
      "('T', 'T', 'A')\n",
      "('T', 'T', 'C')\n",
      "('T', 'T', 'G')\n",
      "('T', 'T', 'T')\n",
      "('T', 'A', 'C')\n",
      "('T', 'A', 'G')\n",
      "('T', 'A', 'T')\n",
      "('T', 'C', 'G')\n",
      "('T', 'C', 'T')\n",
      "('T', 'G', 'T')\n",
      "('C', 'G', 'A')\n",
      "('C', 'G', 'G')\n",
      "('C', 'G', 'T')\n",
      "('C', 'G', 'A')\n",
      "('C', 'G', 'C')\n",
      "('C', 'G', 'G')\n",
      "('C', 'G', 'T')\n",
      "('C', 'A', 'G')\n",
      "('C', 'A', 'T')\n",
      "('C', 'A', 'A')\n",
      "('C', 'A', 'C')\n",
      "('C', 'A', 'G')\n",
      "('C', 'A', 'T')\n",
      "('C', 'G', 'T')\n",
      "('C', 'G', 'A')\n",
      "('C', 'G', 'C')\n",
      "('C', 'G', 'G')\n",
      "('C', 'G', 'T')\n",
      "('C', 'T', 'A')\n",
      "('C', 'T', 'C')\n",
      "('C', 'T', 'G')\n",
      "('C', 'T', 'T')\n",
      "('C', 'A', 'C')\n",
      "('C', 'A', 'G')\n",
      "('C', 'A', 'T')\n",
      "('C', 'C', 'G')\n",
      "('C', 'C', 'T')\n",
      "('C', 'G', 'T')\n",
      "('G', 'A', 'G')\n",
      "('G', 'A', 'T')\n",
      "('G', 'A', 'A')\n",
      "('G', 'A', 'C')\n",
      "('G', 'A', 'G')\n",
      "('G', 'A', 'T')\n",
      "('G', 'G', 'T')\n",
      "('G', 'G', 'A')\n",
      "('G', 'G', 'C')\n",
      "('G', 'G', 'G')\n",
      "('G', 'G', 'T')\n",
      "('G', 'T', 'A')\n",
      "('G', 'T', 'C')\n",
      "('G', 'T', 'G')\n",
      "('G', 'T', 'T')\n",
      "('G', 'A', 'C')\n",
      "('G', 'A', 'G')\n",
      "('G', 'A', 'T')\n",
      "('G', 'C', 'G')\n",
      "('G', 'C', 'T')\n",
      "('G', 'G', 'T')\n",
      "('A', 'G', 'T')\n",
      "('A', 'G', 'A')\n",
      "('A', 'G', 'C')\n",
      "('A', 'G', 'G')\n",
      "('A', 'G', 'T')\n",
      "('A', 'T', 'A')\n",
      "('A', 'T', 'C')\n",
      "('A', 'T', 'G')\n",
      "('A', 'T', 'T')\n",
      "('A', 'A', 'C')\n",
      "('A', 'A', 'G')\n",
      "('A', 'A', 'T')\n",
      "('A', 'C', 'G')\n",
      "('A', 'C', 'T')\n",
      "('A', 'G', 'T')\n",
      "('G', 'T', 'A')\n",
      "('G', 'T', 'C')\n",
      "('G', 'T', 'G')\n",
      "('G', 'T', 'T')\n",
      "('G', 'A', 'C')\n",
      "('G', 'A', 'G')\n",
      "('G', 'A', 'T')\n",
      "('G', 'C', 'G')\n",
      "('G', 'C', 'T')\n",
      "('G', 'G', 'T')\n",
      "('T', 'A', 'C')\n",
      "('T', 'A', 'G')\n",
      "('T', 'A', 'T')\n",
      "('T', 'C', 'G')\n",
      "('T', 'C', 'T')\n",
      "('T', 'G', 'T')\n",
      "('A', 'C', 'G')\n",
      "('A', 'C', 'T')\n",
      "('A', 'G', 'T')\n",
      "('C', 'G', 'T')\n"
     ]
    }
   ],
   "source": [
    "import itertools\n",
    "\n",
    "dna_seq = \"ATCGAGTACGT\"\n",
    "combos = itertools.combinations(dna_seq, 3)\n",
    "\n",
    "for combo in combos:\n",
    "    print(combo)\n"
   ]
  },
  {
   "cell_type": "code",
   "execution_count": null,
   "id": "c8c2cd63",
   "metadata": {},
   "outputs": [],
   "source": []
  },
  {
   "cell_type": "markdown",
   "id": "3faccbb7",
   "metadata": {},
   "source": [
    "### infinite generator that generates the Fibonacci series"
   ]
  },
  {
   "cell_type": "code",
   "execution_count": 8,
   "id": "b4de99fe",
   "metadata": {},
   "outputs": [
    {
     "name": "stdout",
     "output_type": "stream",
     "text": [
      "0\n",
      "1\n",
      "1\n",
      "2\n",
      "3\n",
      "5\n",
      "8\n",
      "13\n",
      "21\n",
      "34\n"
     ]
    }
   ],
   "source": [
    "def fibonacci():\n",
    "    a, b = 0, 1\n",
    "    while True:\n",
    "        yield a\n",
    "        a, b = b, a + b\n",
    "\n",
    "fibonacci_generator = fibonacci()\n",
    "\n",
    "# generate the first 10 numbers in the Fibonacci series\n",
    "for i in range(10):\n",
    "    print(next(fibonacci_generator))\n"
   ]
  },
  {
   "cell_type": "code",
   "execution_count": 11,
   "id": "48225a14",
   "metadata": {},
   "outputs": [
    {
     "name": "stdout",
     "output_type": "stream",
     "text": [
      "0\n",
      "1\n",
      "1\n",
      "2\n",
      "3\n",
      "5\n",
      "8\n",
      "13\n",
      "21\n",
      "34\n"
     ]
    }
   ],
   "source": [
    "def fibonacci_rabbits():\n",
    "    \"\"\"An infinite generator that yields the Fibonacci sequence of rabbit pairs using the biological model.\"\"\"\n",
    "    a, b = 1, 1\n",
    "    while True:\n",
    "        yield a\n",
    "        a, b = b, a + b\n",
    "fibonacci_generator = fibonacci()\n",
    "\n",
    "# generate the first 10 numbers in the Fibonacci series\n",
    "for i in range(10):\n",
    "    print(next(fibonacci_generator))\n"
   ]
  },
  {
   "cell_type": "code",
   "execution_count": 13,
   "id": "4f629f98",
   "metadata": {},
   "outputs": [
    {
     "name": "stdout",
     "output_type": "stream",
     "text": [
      "[0, 1, 1, 2, 3, 5, 8, 13, 21, 34]\n"
     ]
    }
   ],
   "source": [
    "fib = fibonacci()\n",
    "print(list(itertools.islice(fib, 10))) \n"
   ]
  },
  {
   "cell_type": "markdown",
   "id": "fdb94ac0",
   "metadata": {},
   "source": [
    "### regular expressions "
   ]
  },
  {
   "cell_type": "code",
   "execution_count": 16,
   "id": "bfec6815",
   "metadata": {},
   "outputs": [
    {
     "name": "stdout",
     "output_type": "stream",
     "text": [
      "Matches found:\n",
      "GCG\n",
      "GCG\n",
      "GCG\n",
      "GCG\n",
      "GCG\n",
      "GCG\n"
     ]
    }
   ],
   "source": [
    "import re\n",
    "\n",
    "# Define a DNA sequence\n",
    "dna_sequence = \"ATCGCGTCTAAAGCGTTGCGCGCGCGCGCTTACTAGCGT\"\n",
    "\n",
    "# Define the pattern to search for\n",
    "pattern = r\"(GCG)+\"\n",
    "\n",
    "# Search for the pattern in the DNA sequence\n",
    "matches = re.findall(pattern, dna_sequence)\n",
    "\n",
    "# Print the matches\n",
    "print(\"Matches found:\")\n",
    "for match in matches:\n",
    "    print(match)\n"
   ]
  },
  {
   "cell_type": "markdown",
   "id": "27da8a13",
   "metadata": {},
   "source": [
    "### generating a multiplication table of the number 5 using list comprehension"
   ]
  },
  {
   "cell_type": "code",
   "execution_count": 23,
   "id": "7cec169c",
   "metadata": {},
   "outputs": [
    {
     "name": "stdout",
     "output_type": "stream",
     "text": [
      "[5, 10, 15, 20, 25, 30, 35, 40, 45, 50]\n"
     ]
    }
   ],
   "source": [
    "n = 5\n",
    "table = [n * i for i in range(1, 11)]\n",
    "print(table)\n"
   ]
  },
  {
   "cell_type": "code",
   "execution_count": 24,
   "id": "f8f6d0a9",
   "metadata": {},
   "outputs": [
    {
     "name": "stdout",
     "output_type": "stream",
     "text": [
      "[5, 15, 25, 35, 45, 50, 51, 52, 53, 54, 55, 56, 57, 58, 59, 65, 75, 85, 95, 105, 115, 125, 135, 145, 150, 151, 152, 153, 154, 155, 156, 157, 158, 159, 165, 175, 185, 195, 205, 215, 225, 235, 245, 250, 251, 252, 253, 254, 255, 256, 257, 258, 259, 265, 275, 285, 295, 305, 315, 325, 335, 345, 350, 351, 352, 353, 354, 355, 356, 357, 358, 359, 365, 375, 385, 395, 405, 415, 425, 435, 445, 450, 451, 452, 453, 454, 455, 456, 457, 458, 459, 465, 475, 485, 495, 500]\n"
     ]
    }
   ],
   "source": [
    "numbers = [num for num in range(1, 501) if '5' in str(num)]\n",
    "print(numbers)\n"
   ]
  },
  {
   "cell_type": "code",
   "execution_count": null,
   "id": "870ccca4",
   "metadata": {},
   "outputs": [],
   "source": []
  }
 ],
 "metadata": {
  "kernelspec": {
   "display_name": "Python 3 (ipykernel)",
   "language": "python",
   "name": "python3"
  },
  "language_info": {
   "codemirror_mode": {
    "name": "ipython",
    "version": 3
   },
   "file_extension": ".py",
   "mimetype": "text/x-python",
   "name": "python",
   "nbconvert_exporter": "python",
   "pygments_lexer": "ipython3",
   "version": "3.9.13"
  }
 },
 "nbformat": 4,
 "nbformat_minor": 5
}
