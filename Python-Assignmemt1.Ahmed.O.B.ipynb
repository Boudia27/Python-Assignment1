{
 "cells": [
  {
   "cell_type": "markdown",
   "id": "c3ab4557",
   "metadata": {},
   "source": [
    "# Interger "
   ]
  },
  {
   "cell_type": "code",
   "execution_count": 3,
   "id": "001a64dc",
   "metadata": {},
   "outputs": [
    {
     "name": "stdout",
     "output_type": "stream",
     "text": [
      "24\n"
     ]
    }
   ],
   "source": [
    "x = int(24)\n",
    "print(x)"
   ]
  },
  {
   "cell_type": "code",
   "execution_count": 2,
   "id": "9f5d1ab1",
   "metadata": {},
   "outputs": [
    {
     "name": "stdout",
     "output_type": "stream",
     "text": [
      "24\n"
     ]
    }
   ],
   "source": [
    "# literal\n",
    "x = 24\n",
    "print(x)"
   ]
  },
  {
   "cell_type": "markdown",
   "id": "92bb2e64",
   "metadata": {},
   "source": [
    "# Float"
   ]
  },
  {
   "cell_type": "code",
   "execution_count": 4,
   "id": "1d314ebc",
   "metadata": {},
   "outputs": [
    {
     "name": "stdout",
     "output_type": "stream",
     "text": [
      "5.24\n"
     ]
    }
   ],
   "source": [
    "x = float(5.24)\n",
    "print(x)"
   ]
  },
  {
   "cell_type": "code",
   "execution_count": 6,
   "id": "27bf2a24",
   "metadata": {},
   "outputs": [
    {
     "name": "stdout",
     "output_type": "stream",
     "text": [
      "1.15\n"
     ]
    }
   ],
   "source": [
    "# literal\n",
    "x = 1.15\n",
    "print(x)"
   ]
  },
  {
   "cell_type": "markdown",
   "id": "bee07cd1",
   "metadata": {},
   "source": [
    "# String"
   ]
  },
  {
   "cell_type": "code",
   "execution_count": 12,
   "id": "be86fb15",
   "metadata": {},
   "outputs": [
    {
     "name": "stdout",
     "output_type": "stream",
     "text": [
      "Machine Learning the Future of Bioinformatics\n"
     ]
    }
   ],
   "source": [
    "x = str(\"Machine Learning the Future of Bioinformatics\")\n",
    "print(x)"
   ]
  },
  {
   "cell_type": "code",
   "execution_count": 13,
   "id": "6fdef329",
   "metadata": {},
   "outputs": [
    {
     "name": "stdout",
     "output_type": "stream",
     "text": [
      "Machine Learning the Future of Bioinformatics\n"
     ]
    }
   ],
   "source": [
    "# literal\n",
    "x = \"Machine Learning the Future of Bioinformatics\"\n",
    "print(x)"
   ]
  },
  {
   "cell_type": "markdown",
   "id": "32869a7e",
   "metadata": {},
   "source": [
    "# List"
   ]
  },
  {
   "cell_type": "code",
   "execution_count": 16,
   "id": "c3e6d442",
   "metadata": {},
   "outputs": [
    {
     "name": "stdout",
     "output_type": "stream",
     "text": [
      "['Representation', 'Evaluation', 'Optimization']\n"
     ]
    }
   ],
   "source": [
    "x = list((\"Representation\", \"Evaluation\", \"Optimization\"))\n",
    "print(x)"
   ]
  },
  {
   "cell_type": "code",
   "execution_count": 17,
   "id": "b92d2515",
   "metadata": {},
   "outputs": [
    {
     "name": "stdout",
     "output_type": "stream",
     "text": [
      "['Representation', 'Evaluation', 'Optimization']\n"
     ]
    }
   ],
   "source": [
    "# literal\n",
    "x = [\"Representation\", \"Evaluation\", \"Optimization\"]\n",
    "print(x)"
   ]
  },
  {
   "cell_type": "markdown",
   "id": "0ba2d577",
   "metadata": {},
   "source": [
    "# Tuple"
   ]
  },
  {
   "cell_type": "code",
   "execution_count": 19,
   "id": "19af4264",
   "metadata": {},
   "outputs": [
    {
     "name": "stdout",
     "output_type": "stream",
     "text": [
      "('Representation', 'Evaluation', 'Optimization')\n"
     ]
    }
   ],
   "source": [
    "x = tuple((\"Representation\", \"Evaluation\", \"Optimization\"))\n",
    "print(x)"
   ]
  },
  {
   "cell_type": "code",
   "execution_count": 21,
   "id": "b97968b4",
   "metadata": {},
   "outputs": [
    {
     "name": "stdout",
     "output_type": "stream",
     "text": [
      "('Representation', 'Evaluation', 'Optimization')\n"
     ]
    }
   ],
   "source": [
    "# literal \n",
    "x = (\"Representation\", \"Evaluation\", \"Optimization\")\n",
    "print(x)"
   ]
  },
  {
   "cell_type": "markdown",
   "id": "c1b48002",
   "metadata": {},
   "source": [
    "# Dictionary"
   ]
  },
  {
   "cell_type": "code",
   "execution_count": 38,
   "id": "227a191a",
   "metadata": {},
   "outputs": [
    {
     "name": "stdout",
     "output_type": "stream",
     "text": [
      "{'name': 'Zbaglou', 'age': 36}\n"
     ]
    }
   ],
   "source": [
    "x = dict(name=\"Zbaglou\", age=36)\n",
    "print(x)"
   ]
  },
  {
   "cell_type": "code",
   "execution_count": 37,
   "id": "3ce5650c",
   "metadata": {},
   "outputs": [
    {
     "name": "stdout",
     "output_type": "stream",
     "text": [
      "{'name': 'Zbaglou', 'age': 36}\n"
     ]
    }
   ],
   "source": [
    "# literal\n",
    "x = {\"name\": \"Zbaglou\", \"age\": 36}\n",
    "print(x)"
   ]
  },
  {
   "cell_type": "markdown",
   "id": "c4500131",
   "metadata": {},
   "source": [
    "# Set"
   ]
  },
  {
   "cell_type": "code",
   "execution_count": 25,
   "id": "ac1ac94f",
   "metadata": {},
   "outputs": [
    {
     "name": "stdout",
     "output_type": "stream",
     "text": [
      "{'Mostagenm', 'West', 'of Algeria'}\n"
     ]
    }
   ],
   "source": [
    "x = set((\"Mostagenm\", \"West\", \"of Algeria\"))\n",
    "print(x)"
   ]
  },
  {
   "cell_type": "code",
   "execution_count": 26,
   "id": "649bf954",
   "metadata": {},
   "outputs": [
    {
     "name": "stdout",
     "output_type": "stream",
     "text": [
      "{'Mostagenm', 'West', 'of Algeria'}\n"
     ]
    }
   ],
   "source": [
    "# literal\n",
    "x = {\"Mostagenm\", \"West\", \"of Algeria\"}\n",
    "print(x)"
   ]
  },
  {
   "cell_type": "markdown",
   "id": "5e42fc34",
   "metadata": {},
   "source": [
    "# two operands"
   ]
  },
  {
   "cell_type": "code",
   "execution_count": 27,
   "id": "700ef04a",
   "metadata": {},
   "outputs": [
    {
     "name": "stdout",
     "output_type": "stream",
     "text": [
      "29\n",
      "19\n",
      "120\n",
      "4.8\n",
      "4\n",
      "7962624\n",
      "4\n"
     ]
    }
   ],
   "source": [
    "a = 24\n",
    "b = 5\n",
    "print(a + b)    # Addition\n",
    "print(a - b)    # Subtraction\n",
    "print(a * b)    # Multiplication\n",
    "print(a / b)    # Division\n",
    "print(a % b)    # Modulus\n",
    "print(a ** b)   # Exponentiation\n",
    "print(a // b)   # Floor Division"
   ]
  },
  {
   "cell_type": "markdown",
   "id": "e65d371a",
   "metadata": {},
   "source": [
    "# Implementing methods and attributes using dir() function"
   ]
  },
  {
   "cell_type": "markdown",
   "id": "303bd487",
   "metadata": {},
   "source": [
    "### Integer"
   ]
  },
  {
   "cell_type": "code",
   "execution_count": 28,
   "id": "e99e0388",
   "metadata": {},
   "outputs": [
    {
     "name": "stdout",
     "output_type": "stream",
     "text": [
      "['__abs__', '__add__', '__and__', '__bool__', '__ceil__', '__class__', '__delattr__', '__dir__', '__divmod__', '__doc__', '__eq__', '__float__', '__floor__', '__floordiv__', '__format__', '__ge__', '__getattribute__', '__getnewargs__', '__gt__', '__hash__', '__index__', '__init__', '__init_subclass__', '__int__', '__invert__', '__le__', '__lshift__', '__lt__', '__mod__', '__mul__', '__ne__', '__neg__', '__new__', '__or__', '__pos__', '__pow__', '__radd__', '__rand__', '__rdivmod__', '__reduce__', '__reduce_ex__', '__repr__', '__rfloordiv__', '__rlshift__', '__rmod__', '__rmul__', '__ror__', '__round__', '__rpow__', '__rrshift__', '__rshift__', '__rsub__', '__rtruediv__', '__rxor__', '__setattr__', '__sizeof__', '__str__', '__sub__', '__subclasshook__', '__truediv__', '__trunc__', '__xor__', 'as_integer_ratio', 'bit_length', 'conjugate', 'denominator', 'from_bytes', 'imag', 'numerator', 'real', 'to_bytes']\n"
     ]
    }
   ],
   "source": [
    "x = 24\n",
    "print(dir(x))"
   ]
  },
  {
   "cell_type": "markdown",
   "id": "66f4b315",
   "metadata": {},
   "source": [
    "### Let's create two operands a and b and play around with different operators"
   ]
  },
  {
   "cell_type": "code",
   "execution_count": 31,
   "id": "ed552c8e",
   "metadata": {},
   "outputs": [
    {
     "name": "stdout",
     "output_type": "stream",
     "text": [
      "29\n",
      "19\n",
      "120\n",
      "4.8\n",
      "4\n",
      "7962624\n"
     ]
    }
   ],
   "source": [
    "a = 24\n",
    "b = 5\n",
    "\n",
    "# Arithmetic operators\n",
    "print(a + b)  # Addition\n",
    "print(a - b)  # Subtraction\n",
    "print(a * b)  # Multiplication\n",
    "print(a / b)  # Division\n",
    "print(a % b)  # Modulus\n",
    "print(a ** b)  # Exponentiation\n"
   ]
  },
  {
   "cell_type": "code",
   "execution_count": 32,
   "id": "dae69825",
   "metadata": {},
   "outputs": [
    {
     "name": "stdout",
     "output_type": "stream",
     "text": [
      "False\n",
      "True\n",
      "True\n",
      "False\n",
      "True\n",
      "False\n"
     ]
    }
   ],
   "source": [
    "# Comparison operators\n",
    "print(a == b)  # Equal to\n",
    "print(a != b)  # Not equal to\n",
    "print(a > b)  # Greater than\n",
    "print(a < b)  # Less than\n",
    "print(a >= b)  # Greater than or equal to\n",
    "print(a <= b)  # Less than or equal to\n"
   ]
  },
  {
   "cell_type": "code",
   "execution_count": 33,
   "id": "c61f06ef",
   "metadata": {},
   "outputs": [
    {
     "name": "stdout",
     "output_type": "stream",
     "text": [
      "5\n",
      "24\n",
      "False\n"
     ]
    }
   ],
   "source": [
    "# Logical operators\n",
    "print(a and b)  # Logical AND\n",
    "print(a or b)  # Logical OR\n",
    "print(not a)  # Logical NOT"
   ]
  },
  {
   "cell_type": "code",
   "execution_count": 34,
   "id": "6530759c",
   "metadata": {},
   "outputs": [
    {
     "name": "stdout",
     "output_type": "stream",
     "text": [
      "False\n",
      "True\n"
     ]
    }
   ],
   "source": [
    "# Identity operators\n",
    "print(a is b)  # Returns True if both operands are the same object\n",
    "print(a is not b)  # Returns True if both operands are not the same object"
   ]
  },
  {
   "cell_type": "code",
   "execution_count": 35,
   "id": "5b36e0cd",
   "metadata": {},
   "outputs": [
    {
     "name": "stdout",
     "output_type": "stream",
     "text": [
      "True\n",
      "True\n"
     ]
    }
   ],
   "source": [
    "# Membership operators\n",
    "x = [1, 2, 3]\n",
    "print(1 in x)  # Returns True if the specified value is present in the list\n",
    "print(4 not in x)  # Returns True if the specified value is not present in the list"
   ]
  },
  {
   "cell_type": "markdown",
   "id": "9f7e3b55",
   "metadata": {},
   "source": [
    "## dir() Function"
   ]
  },
  {
   "cell_type": "code",
   "execution_count": 36,
   "id": "0b9a991c",
   "metadata": {},
   "outputs": [
    {
     "name": "stdout",
     "output_type": "stream",
     "text": [
      "['__abs__', '__add__', '__and__', '__bool__', '__ceil__', '__class__', '__delattr__', '__dir__', '__divmod__', '__doc__', '__eq__', '__float__', '__floor__', '__floordiv__', '__format__', '__ge__', '__getattribute__', '__getnewargs__', '__gt__', '__hash__', '__index__', '__init__', '__init_subclass__', '__int__', '__invert__', '__le__', '__lshift__', '__lt__', '__mod__', '__mul__', '__ne__', '__neg__', '__new__', '__or__', '__pos__', '__pow__', '__radd__', '__rand__', '__rdivmod__', '__reduce__', '__reduce_ex__', '__repr__', '__rfloordiv__', '__rlshift__', '__rmod__', '__rmul__', '__ror__', '__round__', '__rpow__', '__rrshift__', '__rshift__', '__rsub__', '__rtruediv__', '__rxor__', '__setattr__', '__sizeof__', '__str__', '__sub__', '__subclasshook__', '__truediv__', '__trunc__', '__xor__', 'as_integer_ratio', 'bit_length', 'conjugate', 'denominator', 'from_bytes', 'imag', 'numerator', 'real', 'to_bytes']\n",
      "['__add__', '__class__', '__class_getitem__', '__contains__', '__delattr__', '__delitem__', '__dir__', '__doc__', '__eq__', '__format__', '__ge__', '__getattribute__', '__getitem__', '__gt__', '__hash__', '__iadd__', '__imul__', '__init__', '__init_subclass__', '__iter__', '__le__', '__len__', '__lt__', '__mul__', '__ne__', '__new__', '__reduce__', '__reduce_ex__', '__repr__', '__reversed__', '__rmul__', '__setattr__', '__setitem__', '__sizeof__', '__str__', '__subclasshook__', 'append', 'clear', 'copy', 'count', 'extend', 'index', 'insert', 'pop', 'remove', 'reverse', 'sort']\n",
      "['__class__', '__class_getitem__', '__contains__', '__delattr__', '__delitem__', '__dir__', '__doc__', '__eq__', '__format__', '__ge__', '__getattribute__', '__getitem__', '__gt__', '__hash__', '__init__', '__init_subclass__', '__ior__', '__iter__', '__le__', '__len__', '__lt__', '__ne__', '__new__', '__or__', '__reduce__', '__reduce_ex__', '__repr__', '__reversed__', '__ror__', '__setattr__', '__setitem__', '__sizeof__', '__str__', '__subclasshook__', 'clear', 'copy', 'fromkeys', 'get', 'items', 'keys', 'pop', 'popitem', 'setdefault', 'update', 'values']\n"
     ]
    }
   ],
   "source": [
    "a = 24\n",
    "print(dir(a))\n",
    "\n",
    "b = [1, 2, 3]\n",
    "print(dir(b))\n",
    "\n",
    "c = {\"name\": \"Zbaglou\", \"age\": 30}\n",
    "print(dir(c))"
   ]
  },
  {
   "cell_type": "markdown",
   "id": "ec126172",
   "metadata": {},
   "source": [
    "### Given the list of students, assign them the course."
   ]
  },
  {
   "cell_type": "code",
   "execution_count": 47,
   "id": "dd2dfde5",
   "metadata": {},
   "outputs": [
    {
     "name": "stdout",
     "output_type": "stream",
     "text": [
      "{'Duy': ['Python', 'Database', 'ML'], 'Laxmi': ['Python', 'Database', 'ML'], 'Antonio': ['Python', 'Database', 'ML'], 'Maria': ['Python', 'Database', 'ML']}\n"
     ]
    }
   ],
   "source": [
    "students = [\"Duy\", \"Laxmi\", \"Antonio\", \"Maria\"]\n",
    "courses = [\"Python\", \"Database\", \"ML\"]\n",
    "students_profile = {student: courses for student in students}\n",
    "print(students_profile) # output: {'Duy': ['Python', 'Database', 'ML'], 'Laxmi': ['Python', 'Database', 'ML'], 'Antonio': ['Python', 'Database', 'ML'], 'Maria': ['Python', 'Database', 'ML']}"
   ]
  },
  {
   "cell_type": "markdown",
   "id": "90da548e",
   "metadata": {},
   "source": [
    "### Modify Antonio's course to [\"JavaScript\",\"Database\",\"NodeJS\"]"
   ]
  },
  {
   "cell_type": "code",
   "execution_count": 49,
   "id": "2c22427c",
   "metadata": {},
   "outputs": [
    {
     "name": "stdout",
     "output_type": "stream",
     "text": [
      "{'Duy': ['Python', 'Database', 'ML'], 'Laxmi': ['Python', 'Database', 'ML'], 'Antonio': ['JavaScript', 'Database', 'NodeJS'], 'Maria': ['Python', 'Database', 'ML']}\n"
     ]
    }
   ],
   "source": [
    "students_profile[\"Antonio\"] = [\"JavaScript\", \"Database\", \"NodeJS\"]\n",
    "print(students_profile) # output: {'Duy': ['Python', 'Database', 'ML'], 'Laxmi': ['Python', 'Database', 'ML'], 'Antonio': ['JavaScript', 'Database', 'NodeJS'], 'Maria': ['Python', 'Database', 'ML']}"
   ]
  },
  {
   "cell_type": "markdown",
   "id": "ed765510",
   "metadata": {},
   "source": [
    "### Add \"ReactJs\" to Anonio's course"
   ]
  },
  {
   "cell_type": "code",
   "execution_count": 51,
   "id": "bba2a6be",
   "metadata": {},
   "outputs": [
    {
     "name": "stdout",
     "output_type": "stream",
     "text": [
      "{'Duy': ['Python', 'Database', 'ML'], 'Laxmi': ['Python', 'Database', 'ML'], 'Antonio': ['JavaScript', 'Database', 'NodeJS', 'ReactJs'], 'Maria': ['Python', 'Database', 'ML']}\n"
     ]
    }
   ],
   "source": [
    "students_profile[\"Antonio\"].append(\"ReactJs\")\n",
    "print(students_profile) # output: {'Duy': ['Python', 'Database', 'ML'], 'Laxmi': ['Python', 'Database', 'ML'], 'Antonio': ['JavaScript', 'Database', 'NodeJS', 'ReactJs'], 'Maria': ['Python', 'Database', 'ML']}"
   ]
  },
  {
   "cell_type": "markdown",
   "id": "f9048e45",
   "metadata": {},
   "source": [
    "### Replace Antonio's \"ReactJs\" to \"Vuejs\""
   ]
  },
  {
   "cell_type": "code",
   "execution_count": 53,
   "id": "f5901bc7",
   "metadata": {},
   "outputs": [
    {
     "name": "stdout",
     "output_type": "stream",
     "text": [
      "{'Duy': ['Python', 'Database', 'ML'], 'Laxmi': ['Python', 'Database', 'ML'], 'Antonio': ['JavaScript', 'Database', 'NodeJS', 'Vuejs'], 'Maria': ['Python', 'Database', 'ML']}\n"
     ]
    }
   ],
   "source": [
    "students_profile[\"Antonio\"][3] = \"Vuejs\"\n",
    "print(students_profile) # output: {'Duy': ['Python', 'Database', 'ML'], 'Laxmi': ['Python', 'Database', 'ML'], 'Antonio': ['JavaScript', 'Database', 'NodeJS', 'Vuejs'], 'Maria': ['Python', 'Database', 'ML']}"
   ]
  },
  {
   "cell_type": "markdown",
   "id": "6b85ecdb",
   "metadata": {},
   "source": [
    "### Remove an item from dictionary"
   ]
  },
  {
   "cell_type": "code",
   "execution_count": 46,
   "id": "9a6f52b8",
   "metadata": {},
   "outputs": [
    {
     "name": "stdout",
     "output_type": "stream",
     "text": [
      "{'Duy': ['Python', 'Database', 'ML'], 'Laxmi': ['Python', 'Database', 'ML'], 'Antonio': ['JavaScript', 'Database', 'NodeJS', 'Vuejs']}\n"
     ]
    }
   ],
   "source": [
    "del students_profile[\"Maria\"]\n",
    "print(students_profile) # output: {'Duy': ['Python', 'Database', 'ML'], 'Laxmi': ['Python', 'Database', 'ML'], 'Antonio': ['JavaScript', 'Database', 'NodeJS', 'Vuejs']}"
   ]
  },
  {
   "cell_type": "markdown",
   "id": "36ebf5a1",
   "metadata": {},
   "source": [
    "# Create a list of item"
   ]
  },
  {
   "cell_type": "code",
   "execution_count": 56,
   "id": "1ed3390f",
   "metadata": {},
   "outputs": [
    {
     "name": "stdout",
     "output_type": "stream",
     "text": [
      "1\n"
     ]
    }
   ],
   "source": [
    "countries = [\"Finland\",\"Sweden\",\"Denmark\",\"Netherlands\",\"Germany\",\"Norway\",\"Iceland\"]\n",
    "print(countries.index(\"Sweden\")) # output: 1"
   ]
  },
  {
   "cell_type": "markdown",
   "id": "d2f11bfe",
   "metadata": {},
   "source": [
    "### Get all the items except the first"
   ]
  },
  {
   "cell_type": "code",
   "execution_count": 59,
   "id": "586e4281",
   "metadata": {},
   "outputs": [
    {
     "name": "stdout",
     "output_type": "stream",
     "text": [
      "['Sweden', 'Denmark', 'Netherlands', 'Germany', 'Norway', 'Iceland']\n"
     ]
    }
   ],
   "source": [
    "print(countries[1:]) # output: ['Sweden', 'Denmark', 'Netherlands', 'Germany', 'Norway', 'Iceland']"
   ]
  },
  {
   "cell_type": "markdown",
   "id": "fa4de46c",
   "metadata": {},
   "source": [
    "### Get all the items except the last"
   ]
  },
  {
   "cell_type": "code",
   "execution_count": 60,
   "id": "991b6447",
   "metadata": {},
   "outputs": [
    {
     "name": "stdout",
     "output_type": "stream",
     "text": [
      "['Finland', 'Sweden', 'Denmark', 'Netherlands', 'Germany', 'Norway']\n"
     ]
    }
   ],
   "source": [
    "print(countries[:-1]) # output: ['Finland', 'Sweden', 'Denmark', 'Netherlands', 'Germany', 'Norway']"
   ]
  },
  {
   "cell_type": "markdown",
   "id": "818b1d4a",
   "metadata": {},
   "source": [
    "### Find the last item using negative indexing"
   ]
  },
  {
   "cell_type": "code",
   "execution_count": 61,
   "id": "e08677dc",
   "metadata": {},
   "outputs": [
    {
     "name": "stdout",
     "output_type": "stream",
     "text": [
      "Iceland\n"
     ]
    }
   ],
   "source": [
    "print(countries[-1]) # output: Iceland"
   ]
  },
  {
   "cell_type": "markdown",
   "id": "ff4a7b98",
   "metadata": {},
   "source": [
    "### Find the last three item using negative indexing"
   ]
  },
  {
   "cell_type": "code",
   "execution_count": 62,
   "id": "410a29a3",
   "metadata": {},
   "outputs": [
    {
     "name": "stdout",
     "output_type": "stream",
     "text": [
      "['Germany', 'Norway', 'Iceland']\n"
     ]
    }
   ],
   "source": [
    "print(countries[-3:]) # output: ['Germany', 'Norway', 'Iceland']"
   ]
  },
  {
   "cell_type": "markdown",
   "id": "8f499dcf",
   "metadata": {},
   "source": [
    "### Grab all the items with odd indices"
   ]
  },
  {
   "cell_type": "code",
   "execution_count": 63,
   "id": "dbdaa423",
   "metadata": {},
   "outputs": [
    {
     "name": "stdout",
     "output_type": "stream",
     "text": [
      "['Sweden', 'Netherlands', 'Norway']\n"
     ]
    }
   ],
   "source": [
    "print(countries[1::2]) # output: ['Sweden', 'Netherlands', 'Norway']"
   ]
  },
  {
   "cell_type": "markdown",
   "id": "2fe237bb",
   "metadata": {},
   "source": [
    "### Find the first and last item for the list"
   ]
  },
  {
   "cell_type": "code",
   "execution_count": 64,
   "id": "9d4a16fd",
   "metadata": {},
   "outputs": [
    {
     "name": "stdout",
     "output_type": "stream",
     "text": [
      "Finland Iceland\n"
     ]
    }
   ],
   "source": [
    "print(countries[0], countries[-1]) # output: Finland Iceland"
   ]
  },
  {
   "cell_type": "markdown",
   "id": "42dc3c67",
   "metadata": {},
   "source": [
    "### Get [\"Netherlands\",\"Germany\",\"Norway\"] using negative indexing"
   ]
  },
  {
   "cell_type": "code",
   "execution_count": 65,
   "id": "f9ea97af",
   "metadata": {},
   "outputs": [
    {
     "name": "stdout",
     "output_type": "stream",
     "text": [
      "['Netherlands', 'Germany', 'Norway']\n"
     ]
    }
   ],
   "source": [
    "print(countries[-4:-1]) # output: ['Netherlands', 'Germany', 'Norway']"
   ]
  },
  {
   "cell_type": "markdown",
   "id": "542afd29",
   "metadata": {},
   "source": [
    "### Reverse the list"
   ]
  },
  {
   "cell_type": "code",
   "execution_count": 66,
   "id": "80d31197",
   "metadata": {},
   "outputs": [
    {
     "name": "stdout",
     "output_type": "stream",
     "text": [
      "['Iceland', 'Norway', 'Germany', 'Netherlands', 'Denmark', 'Sweden', 'Finland']\n"
     ]
    }
   ],
   "source": [
    "print(countries[::-1]) # output: ['Iceland', 'Norway', 'Germany', 'Netherlands', 'Denmark', 'Sweden', 'Finland']"
   ]
  },
  {
   "cell_type": "markdown",
   "id": "dd6cd1dc",
   "metadata": {},
   "source": [
    "### What is the output of countries[::-2]"
   ]
  },
  {
   "cell_type": "code",
   "execution_count": 70,
   "id": "123028c4",
   "metadata": {},
   "outputs": [
    {
     "name": "stdout",
     "output_type": "stream",
     "text": [
      "['Iceland', 'Germany', 'Denmark', 'Finland']\n"
     ]
    }
   ],
   "source": [
    "print(countries[::-2]) # output: ['Iceland', 'Germany', 'Denmark', 'Finland']"
   ]
  },
  {
   "cell_type": "markdown",
   "id": "317787b0",
   "metadata": {},
   "source": [
    "### What is the output of countries[1💯2]?"
   ]
  },
  {
   "cell_type": "code",
   "execution_count": 72,
   "id": "96ebc2f5",
   "metadata": {},
   "outputs": [
    {
     "name": "stdout",
     "output_type": "stream",
     "text": [
      "['Sweden']\n"
     ]
    }
   ],
   "source": [
    "print(countries[1:2]) # output: IndexError: list index out of range"
   ]
  },
  {
   "cell_type": "markdown",
   "id": "7d6d8287",
   "metadata": {},
   "source": [
    "### What is the output of countries[len(countries)-1:0:2]?"
   ]
  },
  {
   "cell_type": "code",
   "execution_count": 74,
   "id": "13eed1e9",
   "metadata": {},
   "outputs": [
    {
     "name": "stdout",
     "output_type": "stream",
     "text": [
      "[]\n"
     ]
    }
   ],
   "source": [
    "print(countries[len(countries)-1:0:2]) # output: []"
   ]
  },
  {
   "cell_type": "code",
   "execution_count": null,
   "id": "c8cb6bfd",
   "metadata": {},
   "outputs": [],
   "source": [
    "### Get the output ['Germany', 'Netherlands', 'Denmark']"
   ]
  },
  {
   "cell_type": "code",
   "execution_count": 76,
   "id": "593651f3",
   "metadata": {},
   "outputs": [
    {
     "name": "stdout",
     "output_type": "stream",
     "text": [
      "['Netherlands', 'Germany', 'Norway']\n"
     ]
    }
   ],
   "source": [
    "print(countries[-4:-1]) # output: ['Netherlands', 'Germany', 'Norway']"
   ]
  },
  {
   "cell_type": "markdown",
   "id": "98867694",
   "metadata": {},
   "source": [
    "### enumerate method to get index and values in the list"
   ]
  },
  {
   "cell_type": "code",
   "execution_count": 81,
   "id": "e9b9fbe9",
   "metadata": {},
   "outputs": [
    {
     "name": "stdout",
     "output_type": "stream",
     "text": [
      "0 Finland\n",
      "1 Sweden\n",
      "2 Denmark\n",
      "3 Netherlands\n",
      "4 Germany\n",
      "5 Norway\n",
      "6 Iceland\n"
     ]
    }
   ],
   "source": [
    "# create a list of countries\n",
    "countries = [\"Finland\",\"Sweden\",\"Denmark\",\"Netherlands\",\"Germany\",\"Norway\",\"Iceland\"]\n",
    "\n",
    "# use enumerate method to get index and values in the list\n",
    "for index, country in enumerate(countries):\n",
    "    print(index, country)"
   ]
  },
  {
   "cell_type": "markdown",
   "id": "00818c77",
   "metadata": {},
   "source": [
    "### two lists of same length, create a dictionary using a list as keys and another list as values without using loop"
   ]
  },
  {
   "cell_type": "code",
   "execution_count": 79,
   "id": "d67cdd49",
   "metadata": {},
   "outputs": [
    {
     "name": "stdout",
     "output_type": "stream",
     "text": [
      "{'a': 1, 'b': 2, 'c': 3, 'd': 4}\n"
     ]
    }
   ],
   "source": [
    "keys = [\"a\",\"b\",\"c\",\"d\"]\n",
    "values = [1,2,3,4]\n",
    "dictionary = dict(zip(keys, values))\n",
    "print(dictionary) # output: {'a': 1, 'b': 2, 'c': 3, 'd': 4}\n"
   ]
  },
  {
   "cell_type": "code",
   "execution_count": null,
   "id": "4af22772",
   "metadata": {},
   "outputs": [],
   "source": []
  },
  {
   "cell_type": "code",
   "execution_count": null,
   "id": "23689bfb",
   "metadata": {},
   "outputs": [],
   "source": []
  }
 ],
 "metadata": {
  "kernelspec": {
   "display_name": "Python 3 (ipykernel)",
   "language": "python",
   "name": "python3"
  },
  "language_info": {
   "codemirror_mode": {
    "name": "ipython",
    "version": 3
   },
   "file_extension": ".py",
   "mimetype": "text/x-python",
   "name": "python",
   "nbconvert_exporter": "python",
   "pygments_lexer": "ipython3",
   "version": "3.9.13"
  }
 },
 "nbformat": 4,
 "nbformat_minor": 5
}
