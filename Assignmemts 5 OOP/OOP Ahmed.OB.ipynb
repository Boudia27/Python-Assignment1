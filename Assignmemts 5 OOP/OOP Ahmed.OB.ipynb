{
 "cells": [
  {
   "cell_type": "code",
   "execution_count": 3,
   "id": "a706b040",
   "metadata": {},
   "outputs": [
    {
     "name": "stdout",
     "output_type": "stream",
     "text": [
      "<class 'int'> <class 'str'>\n",
      "\n",
      "<class 'int'>\n",
      "<class 'str'>\n",
      "<class 'tuple'>\n",
      "<class 'dict'>\n",
      "<class 'list'>\n",
      "<class 'NoneType'>\n",
      "<class 'NoneType'>\n",
      "<class '__main__.Someclass'>\n"
     ]
    }
   ],
   "source": [
    "a = 5\n",
    "b = \"some string\"\n",
    "print(type(a), type(b))\n",
    "\n",
    "def someFunction():\n",
    "    return\n",
    "\n",
    "class Someclass:\n",
    "    pass\n",
    "\n",
    "someList = [int, str, type]\n",
    "\n",
    "# let's create an object of each in the list\n",
    "anotherList = [int(), str(), tuple(), dict(), list(), print(), someFunction(), Someclass()]\n",
    "for item in anotherList:\n",
    "    print(type(item))\n"
   ]
  },
  {
   "cell_type": "markdown",
   "id": "23851442",
   "metadata": {},
   "source": [
    "Using the type() function, we were able to print out two variables a and b's types in the first part of the code. a and b are integers and strings, respectively.\n",
    "\n",
    "Using someList, we are able to create three Python classes: int, str, and type.\n",
    "\n",
    "After creating anotherList and initializing it with Python instances, we created another list called anotherList. We can use built-in classes like int, str, tuple, dict, and list. A custom class Someclass was also created, along with instances of built-in functions like print() and someFunction().\n",
    "\n",
    "The type() function was used to print the type of each item in the anotherList. Each item is an instance of a class, proving that everything in Python is a class or object.\n",
    "\n",
    "I replaced funct() and Myclass() with someFunction() and Someclass(), respectively, since they were not defined in the code."
   ]
  },
  {
   "cell_type": "markdown",
   "id": "1e5ced4e",
   "metadata": {},
   "source": [
    "### Classes Pet and Dog "
   ]
  },
  {
   "cell_type": "code",
   "execution_count": 26,
   "id": "b46ec160",
   "metadata": {},
   "outputs": [],
   "source": [
    "class Pet:\n",
    "    pet_population = 0\n",
    "    pet_instances = []\n",
    "    current_year = 2023\n",
    "\n",
    "    def __init__(self, name, category, age):\n",
    "        self.name = name\n",
    "        self.category = category\n",
    "        self.age = age\n",
    "        Pet.pet_population += 1\n",
    "        Pet.pet_instances.append(self)\n",
    "\n",
    "    def hellofrompet(self):\n",
    "        print(f\"Hello from {self.name}!\")\n",
    "\n",
    "    @classmethod\n",
    "    def timepassedby(cls, years):\n",
    "        for pet in cls.pet_instances:\n",
    "            pet.age += years\n",
    "\n",
    "class Dog(Pet):\n",
    "    def __init__(self, name, category, age, breed):\n",
    "        super().__init__(name, category, age)\n",
    "        self.breed = breed\n",
    "\n",
    "    def barks(self):\n",
    "        print(f\"{self.breed} does he run fast!\")"
   ]
  },
  {
   "cell_type": "code",
   "execution_count": 27,
   "id": "26298dc8",
   "metadata": {},
   "outputs": [
    {
     "name": "stdout",
     "output_type": "stream",
     "text": [
      "2\n",
      "2\n",
      "Micky\n",
      "Sophie\n",
      "6\n",
      "7\n",
      "German Shepherd does he run fast!\n"
     ]
    }
   ],
   "source": [
    "instance1 = Pet(\"Micky\", \"cat\", 1)\n",
    "instance2 = Dog(\"Sophie\", \"dog\", 2, \"German Shepherd\")\n",
    "\n",
    "print(Pet.pet_population)\n",
    "print(Dog.pet_population)\n",
    "\n",
    "for item in Pet.pet_instances:\n",
    "    print(item.name)\n",
    "\n",
    "Pet.timepassedby(5)\n",
    "print(instance1.age)\n",
    "print(instance2.age)\n",
    "\n",
    "instance2.barks()"
   ]
  }
 ],
 "metadata": {
  "kernelspec": {
   "display_name": "Python 3 (ipykernel)",
   "language": "python",
   "name": "python3"
  },
  "language_info": {
   "codemirror_mode": {
    "name": "ipython",
    "version": 3
   },
   "file_extension": ".py",
   "mimetype": "text/x-python",
   "name": "python",
   "nbconvert_exporter": "python",
   "pygments_lexer": "ipython3",
   "version": "3.9.13"
  }
 },
 "nbformat": 4,
 "nbformat_minor": 5
}
