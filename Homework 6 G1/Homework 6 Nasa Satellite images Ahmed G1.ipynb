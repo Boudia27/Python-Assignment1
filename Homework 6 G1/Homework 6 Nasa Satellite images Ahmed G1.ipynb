{
 "cells": [
  {
   "cell_type": "code",
   "execution_count": 1,
   "id": "605e7390",
   "metadata": {},
   "outputs": [],
   "source": [
    "import os\n",
    "import requests\n",
    "from bs4 import BeautifulSoup\n",
    "from selenium import webdriver"
   ]
  },
  {
   "cell_type": "code",
   "execution_count": 2,
   "id": "c68ae4a5",
   "metadata": {},
   "outputs": [],
   "source": [
    "\n",
    "# Define the NASA website URL\n",
    "url = \"https://earthobservatory.nasa.gov/images\"\n",
    "\n",
    "# Set up the Selenium Chrome driver\n",
    "driver = webdriver.Chrome('chromedriver')\n",
    "\n",
    "# Navigate to the NASA website\n",
    "driver.get(url)\n",
    "\n",
    "# Scroll down the page to load all the images\n",
    "driver.execute_script(\"window.scrollTo(0, document.body.scrollHeight);\")\n",
    "driver.implicitly_wait(10)\n",
    "\n",
    "# Get the page source using BeautifulSoup\n",
    "page_source = driver.page_source\n",
    "soup = BeautifulSoup(page_source, 'html.parser')\n",
    "\n",
    "# Create a dictionary to store the image titles and descriptions\n",
    "image_dict = {}\n",
    "\n",
    "# Loop over the image cards and extract relevant information\n",
    "for image_card in soup.find_all('div', class_='eo-tile__caption'):\n",
    "    # Get the image title\n",
    "    title = image_card.find('h2', class_='eo-tile__title').text.strip()\n",
    "    \n",
    "    # Get the image description\n",
    "    description = image_card.find('p', class_='eo-tile__summary').text.strip()\n",
    "    \n",
    "    # Get the image source URL\n",
    "    image_url = image_card.parent.find('img')['src']\n",
    "    \n",
    "    # Download the image and save it to the \"Images\" directory\n",
    "    response = requests.get(image_url)\n",
    "    image_path = os.path.join('Images', f\"{title}.jpg\")\n",
    "    with open(image_path, \"wb\") as f:\n",
    "        f.write(response.content)\n",
    "    \n",
    "    # Add the image title and description to the dictionary\n",
    "    image_dict[title] = description\n",
    "\n",
    "# Print the image titles and descriptions\n",
    "for title, description in image_dict.items():\n",
    "    print(f\"Title: {title}\")\n",
    "    print(f\"Description: {description}\")\n",
    "    print()\n",
    "    \n",
    "# Close the Selenium driver\n",
    "driver.quit()\n"
   ]
  }
 ],
 "metadata": {
  "kernelspec": {
   "display_name": "Python 3 (ipykernel)",
   "language": "python",
   "name": "python3"
  },
  "language_info": {
   "codemirror_mode": {
    "name": "ipython",
    "version": 3
   },
   "file_extension": ".py",
   "mimetype": "text/x-python",
   "name": "python",
   "nbconvert_exporter": "python",
   "pygments_lexer": "ipython3",
   "version": "3.9.13"
  }
 },
 "nbformat": 4,
 "nbformat_minor": 5
}
