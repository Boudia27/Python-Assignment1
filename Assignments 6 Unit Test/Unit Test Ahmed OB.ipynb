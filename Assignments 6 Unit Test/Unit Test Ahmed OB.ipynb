{
 "cells": [
  {
   "cell_type": "code",
   "execution_count": 16,
   "id": "81691189",
   "metadata": {},
   "outputs": [],
   "source": [
    "import unittest\n",
    "import matplotlib.pyplot as plt"
   ]
  },
  {
   "cell_type": "code",
   "execution_count": 24,
   "id": "8e059807",
   "metadata": {},
   "outputs": [
    {
     "name": "stderr",
     "output_type": "stream",
     "text": [
      "F........\n",
      "======================================================================\n",
      "FAIL: test_concentration_calculation (__main__.TestCalculateConcentration)\n",
      "----------------------------------------------------------------------\n",
      "Traceback (most recent call last):\n",
      "  File \"C:\\Program Files\\KMSpico\\temp\\ipykernel_6416\\1151272702.py\", line 37, in test_concentration_calculation\n",
      "    self.assertEqual(calculate_concentration(od, dilution_factor), expected_cfu_ml)\n",
      "AssertionError: 500000.0 != 5000000\n",
      "\n",
      "----------------------------------------------------------------------\n",
      "Ran 9 tests in 0.010s\n",
      "\n",
      "FAILED (failures=1)\n"
     ]
    }
   ],
   "source": [
    "def is_prime(n):\n",
    "    if n < 2:\n",
    "        return False\n",
    "    for i in range(2, int(n**0.5)+1):\n",
    "        if n % i == 0:\n",
    "            return False\n",
    "    return True\n",
    "\n",
    "class TestIsPrime(unittest.TestCase):\n",
    "    def test_negative_numbers(self):\n",
    "        self.assertFalse(is_prime(-1))\n",
    "        self.assertFalse(is_prime(-2))\n",
    "        self.assertFalse(is_prime(-10))\n",
    "    \n",
    "    def test_zero_and_one(self):\n",
    "        self.assertFalse(is_prime(0))\n",
    "        self.assertFalse(is_prime(1))\n",
    "    \n",
    "    def test_small_prime_numbers(self):\n",
    "        self.assertTrue(is_prime(2))\n",
    "        self.assertTrue(is_prime(3))\n",
    "        self.assertTrue(is_prime(5))\n",
    "        self.assertTrue(is_prime(7))\n",
    "    \n",
    "    def test_small_composite_numbers(self):\n",
    "        self.assertFalse(is_prime(4))\n",
    "        self.assertFalse(is_prime(6))\n",
    "        self.assertFalse(is_prime(8))\n",
    "        self.assertFalse(is_prime(9))\n",
    "    \n",
    "    def test_large_prime_numbers(self):\n",
    "        self.assertTrue(is_prime(103))\n",
    "        self.assertTrue(is_prime(107))\n",
    "        self.assertTrue(is_prime(109))\n",
    "    \n",
    "    def test_large_composite_numbers(self):\n",
    "        self.assertFalse(is_prime(100))\n",
    "        self.assertFalse(is_prime(200))\n",
    "        self.assertFalse(is_prime(300))\n",
    "        \n",
    "if __name__ == '__main__':\n",
    "    unittest.main(argv=['first-arg-is-ignored'], exit=False)\n",
    " "
   ]
  },
  {
   "cell_type": "markdown",
   "id": "42a7a540",
   "metadata": {},
   "source": [
    "### An example using Unit Test in microbiology"
   ]
  },
  {
   "cell_type": "code",
   "execution_count": 23,
   "id": "8aed0b68",
   "metadata": {},
   "outputs": [
    {
     "data": {
      "image/png": "[encoded data removed]",
      "text/plain": [
       "<Figure size 640x480 with 1 Axes>"
      ]
     },
     "metadata": {},
     "output_type": "display_data"
    },
    {
     "name": "stderr",
     "output_type": "stream",
     "text": [
      "F........\n",
      "======================================================================\n",
      "FAIL: test_concentration_calculation (__main__.TestCalculateConcentration)\n",
      "----------------------------------------------------------------------\n",
      "Traceback (most recent call last):\n",
      "  File \"C:\\Program Files\\KMSpico\\temp\\ipykernel_6416\\1151272702.py\", line 37, in test_concentration_calculation\n",
      "    self.assertEqual(calculate_concentration(od, dilution_factor), expected_cfu_ml)\n",
      "AssertionError: 500000.0 != 5000000\n",
      "\n",
      "----------------------------------------------------------------------\n",
      "Ran 9 tests in 0.010s\n",
      "\n",
      "FAILED (failures=1)\n"
     ]
    }
   ],
   "source": [
    "# Simulate bacterial growth\n",
    "def simulate_bacterial_growth(initial_population, doubling_time, total_time):\n",
    "    \"\"\"Simulate bacterial growth over time\"\"\"\n",
    "    # Calculate growth rate\n",
    "    growth_rate = 2 ** (1 / doubling_time) - 1\n",
    "\n",
    "    # Initialize population list with initial population\n",
    "    population = [initial_population]\n",
    "\n",
    "    # Calculate population at each time step\n",
    "    for t in range(1, total_time + 1):\n",
    "        population.append(population[t - 1] * (1 + growth_rate))\n",
    "\n",
    "    # Plot results\n",
    "    plt.plot(range(total_time + 1), population)\n",
    "    plt.title('Bacterial Growth Simulation')\n",
    "    plt.xlabel('Time (min)')\n",
    "    plt.ylabel('Population')\n",
    "    plt.show()\n",
    "\n",
    "    return population\n",
    "\n",
    "# Calculate bacterial concentration\n",
    "def calculate_concentration(od, dilution_factor):\n",
    "    \"\"\"Calculate the concentration of a bacterial suspension\"\"\"\n",
    "    if dilution_factor == 0:\n",
    "        raise ZeroDivisionError('Dilution factor cannot be zero')\n",
    "    cfu_ml = (od * 10 ** 7) / dilution_factor\n",
    "    return cfu_ml\n",
    "\n",
    "# Unit tests for bacterial concentration calculation\n",
    "class TestCalculateConcentration(unittest.TestCase):\n",
    "    def test_concentration_calculation(self):\n",
    "        od = 0.5\n",
    "        dilution_factor = 10\n",
    "        expected_cfu_ml = 5 * 10 ** 6\n",
    "        self.assertEqual(calculate_concentration(od, dilution_factor), expected_cfu_ml)\n",
    "\n",
    "    def test_zero_od(self):\n",
    "        od = 0\n",
    "        dilution_factor = 10\n",
    "        self.assertEqual(calculate_concentration(od, dilution_factor), 0)\n",
    "\n",
    "    def test_zero_dilution_factor(self):\n",
    "        od = 0.5\n",
    "        dilution_factor = 0\n",
    "        with self.assertRaises(ZeroDivisionError):\n",
    "            calculate_concentration(od, dilution_factor)\n",
    "\n",
    "if __name__ == '__main__':\n",
    "    # Set initial parameters for bacterial growth simulation\n",
    "    initial_population = 100\n",
    "    doubling_time = 20\n",
    "    total_time = 240\n",
    "\n",
    "    # Simulate bacterial growth\n",
    "    simulate_bacterial_growth(initial_population, doubling_time, total_time)\n",
    "\n",
    "    # Run unit tests\n",
    "    unittest.main(argv=['first-arg-is-ignored'], exit=False)\n"
   ]
  }
 ],
 "metadata": {
  "kernelspec": {
   "display_name": "Python 3 (ipykernel)",
   "language": "python",
   "name": "python3"
  },
  "language_info": {
   "codemirror_mode": {
    "name": "ipython",
    "version": 3
   },
   "file_extension": ".py",
   "mimetype": "text/x-python",
   "name": "python",
   "nbconvert_exporter": "python",
   "pygments_lexer": "ipython3",
   "version": "3.9.13"
  }
 },
 "nbformat": 4,
 "nbformat_minor": 5
}
