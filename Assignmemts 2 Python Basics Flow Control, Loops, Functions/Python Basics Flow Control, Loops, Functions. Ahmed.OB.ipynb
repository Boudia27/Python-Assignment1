{
 "cells": [
  {
   "cell_type": "code",
   "execution_count": 1,
   "id": "8bd7b91d",
   "metadata": {},
   "outputs": [
    {
     "name": "stdout",
     "output_type": "stream",
     "text": [
      "x is greater than y\n"
     ]
    }
   ],
   "source": [
    "# Conditionals\n",
    "# Example\n",
    "x = 10\n",
    "y = 5\n",
    "if x > y:\n",
    "    print(\"x is greater than y\")\n",
    "elif x == y:\n",
    "    print(\"x is equal to y\")\n",
    "else:\n",
    "    print(\"x is less than y\")"
   ]
  },
  {
   "cell_type": "markdown",
   "id": "3791f8f1",
   "metadata": {},
   "source": [
    "### Calculate area of circle"
   ]
  },
  {
   "cell_type": "code",
   "execution_count": 3,
   "id": "1ea08f73",
   "metadata": {},
   "outputs": [
    {
     "name": "stdout",
     "output_type": "stream",
     "text": [
      "Enter the radius of the circle: 200\n",
      "Area of the circle is: 125600.0\n"
     ]
    }
   ],
   "source": [
    "radius = input(\"Enter the radius of the circle: \")\n",
    "if radius.isnumeric():\n",
    "    area = 3.14 * (int(radius) ** 2)\n",
    "    print(\"Area of the circle is:\", area)\n",
    "else:\n",
    "    print(\"Invalid input! Please enter a numeric value.\")"
   ]
  },
  {
   "cell_type": "markdown",
   "id": "4c0cf343",
   "metadata": {},
   "source": [
    "### Calculate area or perimeter"
   ]
  },
  {
   "cell_type": "code",
   "execution_count": 9,
   "id": "73854dfa",
   "metadata": {},
   "outputs": [
    {
     "name": "stdout",
     "output_type": "stream",
     "text": [
      "Enter a numeric value: 12\n",
      "Enter 'a' to calculate area or 'p' to calculate perimeter: 34\n",
      "Invalid input! Please enter either 'a' or 'p'.\n"
     ]
    }
   ],
   "source": [
    "value = input(\"Enter a numeric value: \")\n",
    "if value.isnumeric():\n",
    "    choice = input(\"Enter 'a' to calculate area or 'p' to calculate perimeter: \")\n",
    "    if choice == 'a':\n",
    "        area = 3.14 * (int(value) ** 2)\n",
    "        print(\"Area of the circle is:\", area)\n",
    "    elif choice == 'p':\n",
    "        perimeter = 2 * 3.14 * int(value)\n",
    "        print(\"Perimeter of the circle is:\", perimeter)\n",
    "    else:\n",
    "        print(\"Invalid input! Please enter either 'a' or 'p'.\")\n",
    "else:\n",
    "    print(\"Invalid input! Please enter a numeric value.\")\n"
   ]
  },
  {
   "cell_type": "markdown",
   "id": "7bc55855",
   "metadata": {},
   "source": [
    "### Check and update student profile"
   ]
  },
  {
   "cell_type": "code",
   "execution_count": 10,
   "id": "3397eb2f",
   "metadata": {},
   "outputs": [
    {
     "name": "stdout",
     "output_type": "stream",
     "text": [
      "{'Duy': ['Python', 'Database', 'ML'], 'Laxmi': ['Python', 'Database', 'ML'], 'Antonio': ['Python', 'Database', 'ML'], 'Maria': ['Python', 'Database']}\n"
     ]
    }
   ],
   "source": [
    "students_profile={'Duy': ['Python', 'Database', 'ML'], 'Laxmi': ['Python', 'Database', 'ML'], 'Antonio': ['Python', 'Database', 'ML'],'Maria': ['Python', 'Database', 'ML']}\n",
    "if 'Maria' in students_profile:\n",
    "    students_profile['Maria'].remove('ML')\n",
    "print(students_profile)\n"
   ]
  },
  {
   "cell_type": "markdown",
   "id": "614474ef",
   "metadata": {},
   "source": [
    "### Check substring in string"
   ]
  },
  {
   "cell_type": "code",
   "execution_count": 12,
   "id": "53ac7a53",
   "metadata": {},
   "outputs": [
    {
     "name": "stdout",
     "output_type": "stream",
     "text": [
      "Enter a string: 4\n",
      "Enter a substring to search for: 23\n",
      "The substring is not present in the string.\n"
     ]
    }
   ],
   "source": [
    "string = input(\"Enter a string: \")\n",
    "substring = input(\"Enter a substring to search for: \")\n",
    "if substring in string:\n",
    "    print(\"The substring is present in the string.\")\n",
    "else:\n",
    "    print(\"The substring is not present in the string.\")\n"
   ]
  },
  {
   "cell_type": "markdown",
   "id": "3675b8fa",
   "metadata": {},
   "source": [
    "### Distance metrics"
   ]
  },
  {
   "cell_type": "code",
   "execution_count": 13,
   "id": "91c1e0e4",
   "metadata": {},
   "outputs": [
    {
     "name": "stdout",
     "output_type": "stream",
     "text": [
      "The distance between (1, 2, 3) and (4, 5, 6) for order 2 is 5.20.\n"
     ]
    }
   ],
   "source": [
    "import math\n",
    "\n",
    "p1 = (1, 2, 3)\n",
    "p2 = (4, 5, 6)\n",
    "\n",
    "order = 2  # Change the order to test different norms\n",
    "\n",
    "if order == 1:\n",
    "    distance = sum([abs(p1[i] - p2[i]) for i in range(len(p1))])\n",
    "elif order == 2:\n",
    "    distance = math.sqrt(sum([(p1[i] - p2[i])**2 for i in range(len(p1))]))\n",
    "else:\n",
    "    distance = pow(sum([pow(abs(p1[i] - p2[i]), order) for i in range(len(p1))]), 1/order)\n",
    "\n",
    "print(f\"The distance between {p1} and {p2} for order {order} is {distance:.2f}.\")\n"
   ]
  },
  {
   "cell_type": "markdown",
   "id": "df49820c",
   "metadata": {},
   "source": [
    "### Multiplication table using for and while loop"
   ]
  },
  {
   "cell_type": "code",
   "execution_count": 15,
   "id": "07177497",
   "metadata": {},
   "outputs": [
    {
     "name": "stdout",
     "output_type": "stream",
     "text": [
      "Enter a number: 2\n",
      "2 x 1 = 2\n",
      "2 x 2 = 4\n",
      "2 x 3 = 6\n",
      "2 x 4 = 8\n",
      "2 x 5 = 10\n",
      "2 x 6 = 12\n",
      "2 x 7 = 14\n",
      "2 x 8 = 16\n",
      "2 x 9 = 18\n",
      "2 x 10 = 20\n",
      "Enter a number: 3\n",
      "3 x 1 = 3\n",
      "3 x 2 = 6\n",
      "3 x 3 = 9\n",
      "3 x 4 = 12\n",
      "3 x 5 = 15\n",
      "3 x 6 = 18\n",
      "3 x 7 = 21\n",
      "3 x 8 = 24\n",
      "3 x 9 = 27\n",
      "3 x 10 = 30\n"
     ]
    }
   ],
   "source": [
    "# Using for loop\n",
    "num = int(input(\"Enter a number: \"))\n",
    "for i in range(1, 11):\n",
    "    print(num, \"x\", i, \"=\", num*i)\n",
    "\n",
    "# Using while loop\n",
    "num = int(input(\"Enter a number: \"))\n",
    "i = 1\n",
    "while i <= 10:\n",
    "    print(num, \"x\", i, \"=\", num*i)\n",
    "    i += 1\n"
   ]
  },
  {
   "cell_type": "markdown",
   "id": "759464b7",
   "metadata": {},
   "source": [
    "### Complementary DNA template"
   ]
  },
  {
   "cell_type": "code",
   "execution_count": 18,
   "id": "30437485",
   "metadata": {},
   "outputs": [
    {
     "name": "stdout",
     "output_type": "stream",
     "text": [
      "Complementary DNA template is: TTAGGCTTTTAAGCCCTTAAAAGCGCA\n"
     ]
    }
   ],
   "source": [
    "dna_template = 'AATCCGAAAATTCGGGAATTTTCGCGT'\n",
    "mapper = {\"T\":\"A\", \"A\":\"T\", \"G\":\"C\", \"C\":\"G\"}\n",
    "\n",
    "complementary_dna = \"\"\n",
    "for base in dna_template:\n",
    "    complementary_dna += mapper[base]\n",
    "\n",
    "print(\"Complementary DNA template is:\", complementary_dna)\n"
   ]
  },
  {
   "cell_type": "markdown",
   "id": "b376ebb9",
   "metadata": {},
   "source": [
    "###  Fibonacci series"
   ]
  },
  {
   "cell_type": "code",
   "execution_count": 20,
   "id": "2338dfa0",
   "metadata": {},
   "outputs": [
    {
     "name": "stdout",
     "output_type": "stream",
     "text": [
      "[0, 1, 1, 2, 3, 5, 8, 13, 21, 34, 55, 89, 144, 233]\n"
     ]
    }
   ],
   "source": [
    "n = 13\n",
    "f_series = [0, 1]\n",
    "\n",
    "for i in range(2, n+1):\n",
    "    f_series.append(f_series[i-1] + f_series[i-2])\n",
    "\n",
    "print(f_series)\n"
   ]
  },
  {
   "cell_type": "markdown",
   "id": "9c55e386",
   "metadata": {},
   "source": [
    "### n prime numbers"
   ]
  },
  {
   "cell_type": "code",
   "execution_count": 21,
   "id": "0cbbfcaa",
   "metadata": {},
   "outputs": [
    {
     "name": "stdout",
     "output_type": "stream",
     "text": [
      "[2, 3, 5, 7, 11, 13, 17, 19, 23, 29]\n"
     ]
    }
   ],
   "source": [
    "n = 10\n",
    "primes = []\n",
    "\n",
    "def is_prime(num):\n",
    "    if num < 2:\n",
    "        return False\n",
    "    for i in range(2, num):\n",
    "        if num % i == 0:\n",
    "            return False\n",
    "    return True\n",
    "\n",
    "i = 2\n",
    "while len(primes) < n:\n",
    "    if is_prime(i):\n",
    "        primes.append(i)\n",
    "    i += 1\n",
    "\n",
    "print(primes)\n"
   ]
  },
  {
   "cell_type": "markdown",
   "id": "dfc74b60",
   "metadata": {},
   "source": [
    "### Min-Max Normalization"
   ]
  },
  {
   "cell_type": "code",
   "execution_count": 18,
   "id": "e9aada2e",
   "metadata": {},
   "outputs": [
    {
     "name": "stdout",
     "output_type": "stream",
     "text": [
      "[0.0, 0.17582417582417584, 0.12087912087912088, 0.15384615384615385, 0.31868131868131866, 0.6483516483516484, 0.5164835164835165, 0.5494505494505495, 0.967032967032967, 1.0, 0.5824175824175825, 0.07692307692307693]\n",
      "[-0.2962962962962963, 0.2592592592592593, 0.14814814814814814, 0.4444444444444444, 1.0, -1.0, 0.37037037037037046, 0.7407407407407407, -0.14814814814814814, 0.6666666666666667, 0.2962962962962963, 0.11111111111111116]\n"
     ]
    }
   ],
   "source": [
    "# Data1\n",
    "data1 = [1,17,12,15,30,60,48,51,89,92,54,8]\n",
    "min_val = min(data1)\n",
    "max_val = max(data1)\n",
    "data1_normalized = [(x-min_val)/(max_val-min_val) for x in data1]\n",
    "print(data1_normalized)\n",
    "\n",
    "# Data2\n",
    "data2 = [-13,2,-1,7,22,-32,5,15,-9,13,3,-2]\n",
    "min_val = min(data2)\n",
    "max_val = max(data2)\n",
    "data2_normalized = [(2*(x-min_val)/(max_val-min_val))-1 for x in data2]\n",
    "print(data2_normalized)\n"
   ]
  },
  {
   "cell_type": "markdown",
   "id": "a87a842f",
   "metadata": {},
   "source": [
    "### Bubble Sort"
   ]
  },
  {
   "cell_type": "code",
   "execution_count": null,
   "id": "707cf247",
   "metadata": {},
   "outputs": [],
   "source": []
  },
  {
   "cell_type": "code",
   "execution_count": 11,
   "id": "3905cb7a",
   "metadata": {},
   "outputs": [],
   "source": [
    "def bubble_sort(arr):\n",
    "    \"\"\"\n",
    "    Sorts an array using Bubble Sort algorithm\n",
    "    \n",
    "    Args:\n",
    "    arr: list of integers to be sorted\n",
    "    \n",
    "    Returns:\n",
    "    Sorted list of integers\n",
    "    \"\"\"\n",
    "    n = len(arr)\n",
    "    \n",
    "    # Traverse through all array elements\n",
    "    for i in range(n):\n",
    " \n",
    "        # Last i elements are already sorted\n",
    "        for j in range(0, n-i-1):\n",
    " \n",
    "            # Swap if the element found is greater than the next element\n",
    "            if arr[j] > arr[j+1] :\n",
    "                arr[j], arr[j+1] = arr[j+1], arr[j]\n",
    "    \n",
    "    return arr"
   ]
  },
  {
   "cell_type": "markdown",
   "id": "253967ad",
   "metadata": {},
   "source": [
    "### Selection Sort"
   ]
  },
  {
   "cell_type": "code",
   "execution_count": 12,
   "id": "4bcc8dc4",
   "metadata": {},
   "outputs": [],
   "source": [
    "def selection_sort(arr):\n",
    "    \"\"\"\n",
    "    Sorts an array using Selection Sort algorithm\n",
    "    \n",
    "    Args:\n",
    "    arr: list of integers to be sorted\n",
    "    \n",
    "    Returns:\n",
    "    Sorted list of integers\n",
    "    \"\"\"\n",
    "    n = len(arr)\n",
    " \n",
    "    # Traverse through all array elements\n",
    "    for i in range(n):\n",
    " \n",
    "        # Find the minimum element in remaining unsorted array\n",
    "        min_idx = i\n",
    "        for j in range(i+1, n):\n",
    "            if arr[min_idx] > arr[j]:\n",
    "                min_idx = j\n",
    "                \n",
    "        # Swap the found minimum element with the first element       \n",
    "        arr[i], arr[min_idx] = arr[min_idx], arr[i]\n",
    "    \n",
    "    return arr\n"
   ]
  },
  {
   "cell_type": "markdown",
   "id": "f8a18b0c",
   "metadata": {},
   "source": [
    "### Insertion Sort"
   ]
  },
  {
   "cell_type": "code",
   "execution_count": 13,
   "id": "29bd4228",
   "metadata": {},
   "outputs": [],
   "source": [
    "def insertion_sort(arr):\n",
    "    \"\"\"\n",
    "    Sorts an array using Insertion Sort algorithm\n",
    "    \n",
    "    Args:\n",
    "    arr: list of integers to be sorted\n",
    "    \n",
    "    Returns:\n",
    "    Sorted list of integers\n",
    "    \"\"\"\n",
    "    n = len(arr)\n",
    " \n",
    "    # Traverse through 1 to len(arr)\n",
    "    for i in range(1, n):\n",
    " \n",
    "        key = arr[i]\n",
    "        j = i-1\n",
    "        # Move elements of arr[0..i-1], that are greater than key, to one position ahead of their current position\n",
    "        while j >=0 and key < arr[j] :\n",
    "                arr[j+1] = arr[j]\n",
    "                j -= 1\n",
    "        arr[j+1] = key\n",
    "    \n",
    "    return arr\n"
   ]
  },
  {
   "cell_type": "markdown",
   "id": "e0048c44",
   "metadata": {},
   "source": [
    "### Activation Functio"
   ]
  },
  {
   "cell_type": "code",
   "execution_count": 16,
   "id": "fdd1626b",
   "metadata": {},
   "outputs": [],
   "source": [
    "import math\n",
    "\n",
    "def activation_function(name, x):\n",
    "    \"\"\"\n",
    "    This function takes the name of an activation function and an input value and returns the output value of the activation function.\n",
    "\n",
    "    Parameters:\n",
    "    name (str): The name of the activation function. Valid options are 'sigmoid', 'binary step', 'relu', 'leaky relu', and 'tanh'.\n",
    "    x (float): The input value to the activation function.\n",
    "\n",
    "    Returns:\n",
    "    float: The output value of the activation function for the given input value.\n",
    "\n",
    "    \"\"\"\n",
    "    if name == 'sigmoid':\n",
    "        return 1 / (1 + math.exp(-x))\n",
    "    elif name == 'binary step':\n",
    "        return 1 if x >= 0 else 0\n",
    "    elif name == 'relu':\n",
    "        return max(0, x)\n",
    "    elif name == 'leaky relu':\n",
    "        return max(0.01 * x, x)\n",
    "    elif name == 'tanh':\n",
    "        return math.tanh(x)\n",
    "    else:\n",
    "        raise ValueError('Invalid activation function name')\n"
   ]
  },
  {
   "cell_type": "code",
   "execution_count": 17,
   "id": "31681d2c",
   "metadata": {},
   "outputs": [
    {
     "name": "stdout",
     "output_type": "stream",
     "text": [
      "0.5\n",
      "0\n",
      "0\n",
      "-0.01\n",
      "0.0\n"
     ]
    }
   ],
   "source": [
    "print(activation_function('sigmoid', 0)) # 0.5\n",
    "print(activation_function('binary step', -1)) # 0\n",
    "print(activation_function('relu', -1)) # 0\n",
    "print(activation_function('leaky relu', -1)) # -0.01\n",
    "print(activation_function('tanh', 0)) # 0.0\n"
   ]
  },
  {
   "cell_type": "markdown",
   "id": "ffbe847c",
   "metadata": {},
   "source": [
    "### Permutation Function"
   ]
  },
  {
   "cell_type": "code",
   "execution_count": 19,
   "id": "2bb404c7",
   "metadata": {},
   "outputs": [],
   "source": [
    "def permutation(n, r):\n",
    "    \"\"\"\n",
    "    Returns the number of ways to arrange 'r' objects from a set of 'n' objects where order matters.\n",
    "    \n",
    "    Parameters:\n",
    "    n (int): total number of objects\n",
    "    r (int): number of objects to be arranged\n",
    "    \n",
    "    Returns:\n",
    "    int: permutation of 'r' objects from 'n' objects\n",
    "    \"\"\"\n",
    "    fact_n = factorial(n)\n",
    "    fact_n_r = factorial(n-r)\n",
    "    return fact_n // fact_n_r\n"
   ]
  },
  {
   "cell_type": "code",
   "execution_count": 20,
   "id": "bbe506aa",
   "metadata": {},
   "outputs": [
    {
     "name": "stdout",
     "output_type": "stream",
     "text": [
      "The number of ways to arrange 5 objects from a set of 10 objects is 30240\n"
     ]
    }
   ],
   "source": [
    "# Example usage\n",
    "n = 10\n",
    "r = 5\n",
    "result = permutation(n, r)\n",
    "print(f\"The number of ways to arrange {r} objects from a set of {n} objects is {result}\")\n"
   ]
  },
  {
   "cell_type": "markdown",
   "id": "4a37f25d",
   "metadata": {},
   "source": [
    "### Permutation and Combination Function"
   ]
  },
  {
   "cell_type": "code",
   "execution_count": 21,
   "id": "a935bd25",
   "metadata": {},
   "outputs": [],
   "source": [
    "def perm_comb(choice='both', n=10, r=5):\n",
    "    \"\"\"\n",
    "    Returns the permutation or combination of 'r' objects from a set of 'n' objects where order matters or doesn't matter.\n",
    "    \n",
    "    Parameters:\n",
    "    choice (str): the type of calculation to perform. Default is 'both' which calculates permutation and combination.\n",
    "                  Pass 'p' to calculate permutation and 'c' to calculate combination.\n",
    "    n (int): total number of objects. Default is 10.\n",
    "    r (int): number of objects to be arranged. Default is 5.\n",
    "    \n",
    "    Returns:\n",
    "    tuple: permutation and/or combination of 'r' objects from 'n' objects\n",
    "    \"\"\"\n",
    "    perm = combination = None\n",
    "    \n",
    "    if choice == 'both':\n",
    "        perm = permutation(n, r)\n",
    "        combination = comb(n, r)\n",
    "    elif choice == 'p':\n",
    "        perm = permutation(n, r)\n",
    "    elif choice == 'c':\n",
    "        combination = comb(n, r)\n",
    "    else:\n",
    "        raise ValueError(\"Invalid choice. Pass 'both' for permutation and combination, 'p' for permutation, or 'c' for combination.\")\n",
    "    \n",
    "    return perm, combination\n"
   ]
  },
  {
   "cell_type": "code",
   "execution_count": 22,
   "id": "3be93a90",
   "metadata": {},
   "outputs": [],
   "source": [
    "def print_args(*args, **kwargs):\n",
    "    \"\"\"\n",
    "    Prints all the positional and keyword arguments passed to the function.\n",
    "    \"\"\"\n",
    "    print(\"Positional Arguments:\")\n",
    "    for arg in args:\n",
    "        print(arg)\n",
    "    \n",
    "    print(\"\\nKeyword Arguments:\")\n",
    "    for key, val in kwargs.items():\n",
    "        print(f\"{key} : {val}\")\n"
   ]
  },
  {
   "cell_type": "code",
   "execution_count": 23,
   "id": "42cd1291",
   "metadata": {},
   "outputs": [
    {
     "name": "stdout",
     "output_type": "stream",
     "text": [
      "local\n",
      "enclosing\n",
      "global\n"
     ]
    }
   ],
   "source": [
    "# Global variable\n",
    "x = \"global\"\n",
    "\n",
    "def outer():\n",
    "    # Enclosing variable\n",
    "    x = \"enclosing\"\n",
    "    \n",
    "    def inner():\n",
    "        # Local variable\n",
    "        x = \"local\"\n",
    "        print(x)\n",
    "    \n",
    "    inner()\n",
    "    print(x)\n",
    "\n",
    "outer()\n",
    "print(x)\n"
   ]
  }
 ],
 "metadata": {
  "kernelspec": {
   "display_name": "Python 3 (ipykernel)",
   "language": "python",
   "name": "python3"
  },
  "language_info": {
   "codemirror_mode": {
    "name": "ipython",
    "version": 3
   },
   "file_extension": ".py",
   "mimetype": "text/x-python",
   "name": "python",
   "nbconvert_exporter": "python",
   "pygments_lexer": "ipython3",
   "version": "3.9.13"
  }
 },
 "nbformat": 4,
 "nbformat_minor": 5
}
