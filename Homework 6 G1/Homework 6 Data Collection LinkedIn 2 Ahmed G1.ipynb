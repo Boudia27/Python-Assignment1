{
 "cells": [
  {
   "cell_type": "code",
   "execution_count": 2,
   "id": "37860c8a",
   "metadata": {},
   "outputs": [],
   "source": [
    "import json\n",
    "import time\n",
    "from selenium import webdriver"
   ]
  },
  {
   "cell_type": "code",
   "execution_count": 4,
   "id": "e0f307d8",
   "metadata": {},
   "outputs": [
    {
     "ename": "AttributeError",
     "evalue": "'WebDriver' object has no attribute 'find_elements_by_css_selector'",
     "output_type": "error",
     "traceback": [
      "\u001b[1;31m---------------------------------------------------------------------------\u001b[0m",
      "\u001b[1;31mAttributeError\u001b[0m                            Traceback (most recent call last)",
      "\u001b[1;32mC:\\Program Files\\KMSpico\\temp\\ipykernel_24444\\351023644.py\u001b[0m in \u001b[0;36m<module>\u001b[1;34m\u001b[0m\n\u001b[0;32m     31\u001b[0m \u001b[1;33m\u001b[0m\u001b[0m\n\u001b[0;32m     32\u001b[0m         \u001b[1;31m# Get the list of job cards\u001b[0m\u001b[1;33m\u001b[0m\u001b[1;33m\u001b[0m\u001b[0m\n\u001b[1;32m---> 33\u001b[1;33m         \u001b[0mjob_cards\u001b[0m \u001b[1;33m=\u001b[0m \u001b[0mdriver\u001b[0m\u001b[1;33m.\u001b[0m\u001b[0mfind_elements_by_css_selector\u001b[0m\u001b[1;33m(\u001b[0m\u001b[1;34m'.job-card-container--clickable'\u001b[0m\u001b[1;33m)\u001b[0m\u001b[1;33m\u001b[0m\u001b[1;33m\u001b[0m\u001b[0m\n\u001b[0m\u001b[0;32m     34\u001b[0m \u001b[1;33m\u001b[0m\u001b[0m\n\u001b[0;32m     35\u001b[0m         \u001b[1;31m# Loop over the job cards and extract relevant information\u001b[0m\u001b[1;33m\u001b[0m\u001b[1;33m\u001b[0m\u001b[0m\n",
      "\u001b[1;31mAttributeError\u001b[0m: 'WebDriver' object has no attribute 'find_elements_by_css_selector'"
     ]
    }
   ],
   "source": [
    "# Define the countries to search in\n",
    "countries = ['Finland']\n",
    "\n",
    "# Define the LinkedIn URL and search keywords\n",
    "url = 'https://www.linkedin.com/jobs/search/?'\n",
    "fs_keywords = [\n",
    "    'Front-end development', 'HTML', 'CSS', 'JavaScript', 'React', 'Angular', 'Vue.js', 'Bootstrap',\n",
    "    'jQuery', 'responsive design', 'Back-end development', 'Node.js', 'Python', 'Ruby', 'PHP', 'Java',\n",
    "    '.NET', 'SQL', 'NoSQL', 'RESTful APIs', 'web servers', 'Database management', 'MySQL', 'PostgreSQL',\n",
    "    'MongoDB', 'Redis', 'Cassandra', 'Oracle', 'SQL Server', 'DevOps', 'AWS', 'Azure', 'Google Cloud',\n",
    "    'Docker', 'Kubernetes', 'Git', 'Jenkins', 'Travis CI', 'CircleCI', 'monitoring and logging tools',\n",
    "    'Project management', 'Agile', 'Scrum', 'Kanban', 'JIRA', 'Trello', 'Asana', 'project planning',\n",
    "    'team collaboration', 'communication skills'\n",
    "]\n",
    "\n",
    "# Set up the Selenium Chrome driver\n",
    "driver = webdriver.Chrome()\n",
    "\n",
    "# Define the dictionary to store job postings by country and company\n",
    "job_postings = {country: {} for country in countries}\n",
    "\n",
    "# Loop over the countries and keywords and extract job postings for each combination\n",
    "for country in countries:\n",
    "    for keyword in fs_keywords:\n",
    "        # Construct the search URL\n",
    "        search_url = url + f'keywords={keyword}&location={country}'\n",
    "        \n",
    "        # Navigate to the search URL\n",
    "        driver.get(search_url)\n",
    "        time.sleep(5)\n",
    "        \n",
    "        # Get the list of job cards\n",
    "        job_cards = driver.find_elements_by_css_selector('.job-card-container--clickable')\n",
    "        \n",
    "        # Loop over the job cards and extract relevant information\n",
    "        for job_card in job_cards:\n",
    "            # Get the company name\n",
    "            company = job_card.find_element_by_css_selector('.job-card-container__company-name').text\n",
    "            \n",
    "            # Get the job posting title\n",
    "            title = job_card.find_element_by_css_selector('.job-card-list__title').text\n",
    "            \n",
    "            # Get the job posting link\n",
    "            link = job_card.find_element_by_css_selector('a').get_attribute('href')\n",
    "            \n",
    "            # Get the job posting date\n",
    "            date = job_card.find_element_by_css_selector('.job-card-list__date').text\n",
    "            \n",
    "            # Check if the company has been added to the dictionary yet, and add it if not\n",
    "            if company not in job_postings[country]:\n",
    "                job_postings[country][company] = {}\n",
    "                \n",
    "            # Check if the keyword has been added to the company's dictionary yet, and add it if not\n",
    "            if keyword not in job_postings[country][company]:\n",
    "                job_postings[country][company][keyword] = []\n",
    "                \n",
    "            # Add the job posting to the keyword's list for the company\n",
    "            job_postings[country][company][keyword].append({'title': title, 'link': link, 'date': date})\n",
    "\n",
    "# Save each dictionary in JSON format under the name of the corresponding country\n",
    "for country, postings in job_postings.items():\n",
    "    with open(f'{country}.json', 'w') as outfile:\n",
    "        json.dump(postings, outfile, indent=4)\n",
    "\n",
    "# Close the driver\n",
    "driver.quit()\n"
   ]
  }
 ],
 "metadata": {
  "kernelspec": {
   "display_name": "Python 3 (ipykernel)",
   "language": "python",
   "name": "python3"
  },
  "language_info": {
   "codemirror_mode": {
    "name": "ipython",
    "version": 3
   },
   "file_extension": ".py",
   "mimetype": "text/x-python",
   "name": "python",
   "nbconvert_exporter": "python",
   "pygments_lexer": "ipython3",
   "version": "3.9.13"
  }
 },
 "nbformat": 4,
 "nbformat_minor": 5
}
