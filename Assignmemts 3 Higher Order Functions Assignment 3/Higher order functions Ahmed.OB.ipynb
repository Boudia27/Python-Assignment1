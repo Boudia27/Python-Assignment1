{
 "cells": [
  {
   "cell_type": "code",
   "execution_count": 1,
   "id": "4824fd67",
   "metadata": {},
   "outputs": [
    {
     "name": "stdout",
     "output_type": "stream",
     "text": [
      "Squared numbers: [1, 4, 9, 16, 25, 36, 49, 64, 81]\n",
      "Even numbers: [2, 4, 6, 8]\n",
      "Product of even numbers: 384\n"
     ]
    }
   ],
   "source": [
    "from functools import reduce\n",
    "\n",
    "def square(num):\n",
    "    \"\"\"Returns the square of a number\"\"\"\n",
    "    return num ** 2\n",
    "\n",
    "def product(num1, num2):\n",
    "    \"\"\"Returns the product of two numbers\"\"\"\n",
    "    return num1 * num2\n",
    "\n",
    "# Define a list of integers\n",
    "numbers = [1, 2, 3, 4, 5, 6, 7, 8, 9]\n",
    "\n",
    "# Use the map() function to square each element of the list\n",
    "squares = list(map(square, numbers))\n",
    "print(\"Squared numbers:\", squares)\n",
    "\n",
    "# Use the filter() function to remove all odd numbers from the list\n",
    "evens = list(filter(lambda num: num % 2 == 0, numbers))\n",
    "print(\"Even numbers:\", evens)\n",
    "\n",
    "# Use the reduce() function to find the product of all even numbers in the list\n",
    "product = reduce(product, evens)\n",
    "print(\"Product of even numbers:\", product)\n"
   ]
  }
 ],
 "metadata": {
  "kernelspec": {
   "display_name": "Python 3 (ipykernel)",
   "language": "python",
   "name": "python3"
  },
  "language_info": {
   "codemirror_mode": {
    "name": "ipython",
    "version": 3
   },
   "file_extension": ".py",
   "mimetype": "text/x-python",
   "name": "python",
   "nbconvert_exporter": "python",
   "pygments_lexer": "ipython3",
   "version": "3.9.13"
  }
 },
 "nbformat": 4,
 "nbformat_minor": 5
}
