{
  "nbformat": 4,
  "nbformat_minor": 0,
  "metadata": {
    "colab": {
      "provenance": [],
      "mount_file_id": "15sYzBStK3odOd_o4t_pkXqRYziqhky9E",
      "authorship_tag": "ABX9TyN7d9epxpp7tCX+NLns1/a6",
      "include_colab_link": true
    },
    "kernelspec": {
      "name": "python3",
      "display_name": "Python 3"
    },
    "language_info": {
      "name": "python"
    }
  },
  "cells": [
    {
      "cell_type": "markdown",
      "metadata": {
        "id": "view-in-github",
        "colab_type": "text"
      },
      "source": [
        "<a href=\"https://colab.research.google.com/github/Boudia27/Python-Assignment1/blob/main/Homework_7_G1_Data_Exploration_Ahmed_O_B.ipynb\" target=\"_parent\"><img src=\"https://colab.research.google.com/assets/colab-badge.svg\" alt=\"Open In Colab\"/></a>"
      ]
    },
    {
      "cell_type": "code",
      "source": [
        "import pandas as pd\n",
        "import numpy as np\n"
      ],
      "metadata": {
        "id": "xvMhmmMy5HO-"
      },
      "execution_count": null,
      "outputs": []
    },
    {
      "cell_type": "code",
      "execution_count": null,
      "metadata": {
        "colab": {
          "base_uri": "https://localhost:8080/"
        },
        "id": "j0ddN8U84c6O",
        "outputId": "388d0dd9-0bfa-4581-8fef-58f70603c86e"
      },
      "outputs": [
        {
          "output_type": "stream",
          "name": "stdout",
          "text": [
            "S1: Numerical\n",
            "S2: Numerical\n",
            "S3: Numerical\n"
          ]
        }
      ],
      "source": [
        "# Load the dataset\n",
        "dataset_path = \"/content/drive/Shareddrives/int-ml5_2023-03/HomeWork/Homework7/Group1- Data Labeling/First set of data.xlsx\"\n",
        "data = pd.read_excel(dataset_path)\n",
        "\n",
        "# Identify the types of variables\n",
        "variable_types = {}\n",
        "\n",
        "# Iterate through each column in the dataset\n",
        "for column in data.columns:\n",
        "    # Determine the unique values in the column\n",
        "    unique_values = data[column].unique()\n",
        "\n",
        "    # If the number of unique values is relatively small, consider it categorical\n",
        "    if len(unique_values) <= 10:\n",
        "        variable_types[column] = \"Categorical\"\n",
        "    else:\n",
        "        variable_types[column] = \"Numerical\"\n",
        "\n",
        "# Print the types of variables\n",
        "for column, var_type in variable_types.items():\n",
        "    print(f\"{column}: {var_type}\")\n"
      ]
    },
    {
      "cell_type": "code",
      "source": [
        "\n",
        "# Calculate descriptive statistics\n",
        "statistics = data.describe()\n",
        "\n",
        "# Print the statistics\n",
        "print(statistics)\n"
      ],
      "metadata": {
        "colab": {
          "base_uri": "https://localhost:8080/"
        },
        "id": "IFWAorWe4uTl",
        "outputId": "19b63db7-3d26-4ead-e4d8-9e222eca5e75"
      },
      "execution_count": null,
      "outputs": [
        {
          "output_type": "stream",
          "name": "stdout",
          "text": [
            "               S1          S2          S3\n",
            "count  135.000000  135.000000  134.000000\n",
            "mean   383.548148  306.044444  349.716418\n",
            "std     54.910880   91.372117   49.351678\n",
            "min    241.000000 -270.000000  211.000000\n",
            "25%    349.500000  256.500000  314.250000\n",
            "50%    378.000000  341.000000  351.500000\n",
            "75%    424.500000  370.000000  387.500000\n",
            "max    505.000000  394.000000  500.000000\n"
          ]
        }
      ]
    },
    {
      "cell_type": "code",
      "source": [
        "# Check for missing values\n",
        "missing_values = data.isnull().sum()\n",
        "if missing_values.any():\n",
        "    print(\"Missing values detected:\")\n",
        "    print(missing_values)\n",
        "else:\n",
        "    print(\"No missing values found.\")\n"
      ],
      "metadata": {
        "colab": {
          "base_uri": "https://localhost:8080/"
        },
        "id": "Jk4ZKAYo4xgu",
        "outputId": "78c7bfd6-8fb9-411a-8ff5-bf3d1a0dba38"
      },
      "execution_count": null,
      "outputs": [
        {
          "output_type": "stream",
          "name": "stdout",
          "text": [
            "Missing values detected:\n",
            "S1    0\n",
            "S2    0\n",
            "S3    1\n",
            "dtype: int64\n"
          ]
        }
      ]
    },
    {
      "cell_type": "code",
      "source": [
        "# Check for incorrect measurements or inconsistencies\n",
        "inconsistencies = []\n",
        "\n",
        "# Iterate through each column in the dataset\n",
        "for column in data.columns:\n",
        "    # Check for negative values (assuming the variable should be non-negative)\n",
        "    negative_values = data[data[column] < 0]\n",
        "    if not negative_values.empty:\n",
        "        inconsistencies.append(f\"Negative values found in column '{column}'.\")\n",
        "\n",
        "# Print the inconsistencies, if any\n",
        "if inconsistencies:\n",
        "    print(\"Inconsistencies detected:\")\n",
        "    for inconsistency in inconsistencies:\n",
        "        print(inconsistency)\n",
        "else:\n",
        "    print(\"No inconsistencies found.\")\n"
      ],
      "metadata": {
        "colab": {
          "base_uri": "https://localhost:8080/"
        },
        "id": "YySFFFqd41DZ",
        "outputId": "d7cd8c83-8da1-4bf7-8b73-00aa6dc4baa7"
      },
      "execution_count": null,
      "outputs": [
        {
          "output_type": "stream",
          "name": "stdout",
          "text": [
            "Inconsistencies detected:\n",
            "Negative values found in column 'S2'.\n"
          ]
        }
      ]
    },
    {
      "cell_type": "code",
      "source": [
        "# Calculate descriptive statistics\n",
        "statistics = data.agg(['min', 'mean', 'max', 'std'])\n",
        "\n",
        "# Print the statistics\n",
        "print(statistics)\n"
      ],
      "metadata": {
        "colab": {
          "base_uri": "https://localhost:8080/"
        },
        "id": "1fctX62d44y5",
        "outputId": "c805f22b-c6cf-4eb1-f875-0495407ee54b"
      },
      "execution_count": null,
      "outputs": [
        {
          "output_type": "stream",
          "name": "stdout",
          "text": [
            "              S1          S2          S3\n",
            "min   241.000000 -270.000000  211.000000\n",
            "mean  383.548148  306.044444  349.716418\n",
            "max   505.000000  394.000000  500.000000\n",
            "std    54.910880   91.372117   49.351678\n"
          ]
        }
      ]
    },
    {
      "cell_type": "markdown",
      "source": [
        "# identify outliers"
      ],
      "metadata": {
        "id": "G-r6Y14o4-BL"
      }
    },
    {
      "cell_type": "code",
      "source": [
        "\n",
        "# Set the threshold for identifying outliers (e.g., 1.5 times the IQR)\n",
        "threshold = 1.5\n",
        "\n",
        "# Identify outliers using the IQR method\n",
        "outliers = []\n",
        "for column in data.columns:\n",
        "    column_data = data[column]\n",
        "    Q1 = np.percentile(column_data, 25)\n",
        "    Q3 = np.percentile(column_data, 75)\n",
        "    IQR = Q3 - Q1\n",
        "    lower_bound = Q1 - threshold * IQR\n",
        "    upper_bound = Q3 + threshold * IQR\n",
        "    column_outliers = column_data[(column_data < lower_bound) | (column_data > upper_bound)]\n",
        "    if not column_outliers.empty:\n",
        "        outliers.append((column, column_outliers))\n",
        "\n",
        "# Print the outliers, if any\n",
        "if outliers:\n",
        "    print(\"Outliers detected:\")\n",
        "    for column, column_outliers in outliers:\n",
        "        print(f\"Column: {column}\")\n",
        "        print(column_outliers)\n",
        "else:\n",
        "    print(\"No outliers found.\")\n"
      ],
      "metadata": {
        "colab": {
          "base_uri": "https://localhost:8080/"
        },
        "id": "H_M4Yect47x_",
        "outputId": "84f24bf1-51ca-48ac-9ab4-3ab6fa74ba0e"
      },
      "execution_count": null,
      "outputs": [
        {
          "output_type": "stream",
          "name": "stdout",
          "text": [
            "Outliers detected:\n",
            "Column: S2\n",
            "120   -270\n",
            "Name: S2, dtype: int64\n"
          ]
        }
      ]
    },
    {
      "cell_type": "code",
      "source": [
        "# Set the threshold for identifying outliers (e.g., z-score greater than 3)\n",
        "threshold = 3\n",
        "\n",
        "# Identify outliers using the z-score method\n",
        "outliers = []\n",
        "for column in data.columns:\n",
        "    column_data = data[column]\n",
        "    z_scores = np.abs((column_data - column_data.mean()) / column_data.std())\n",
        "    column_outliers = column_data[z_scores > threshold]\n",
        "    if not column_outliers.empty:\n",
        "        outliers.append((column, column_outliers))\n",
        "\n",
        "# Print the outliers, if any\n",
        "if outliers:\n",
        "    print(\"Outliers detected:\")\n",
        "    for column, column_outliers in outliers:\n",
        "        print(f\"Column: {column}\")\n",
        "        print(column_outliers)\n",
        "else:\n",
        "    print(\"No outliers found.\")\n"
      ],
      "metadata": {
        "colab": {
          "base_uri": "https://localhost:8080/"
        },
        "id": "i2SUBkX75Q8U",
        "outputId": "f1a5437c-1169-448e-b6ed-7f502ec56f8a"
      },
      "execution_count": null,
      "outputs": [
        {
          "output_type": "stream",
          "name": "stdout",
          "text": [
            "Outliers detected:\n",
            "Column: S2\n",
            "120   -270\n",
            "Name: S2, dtype: int64\n",
            "Column: S3\n",
            "11    500.0\n",
            "Name: S3, dtype: float64\n"
          ]
        }
      ]
    },
    {
      "cell_type": "code",
      "source": [
        "# Set the threshold for identifying outliers (e.g., z-score greater than 3)\n",
        "threshold = 3\n",
        "\n",
        "# Identify outliers using the z-score method\n",
        "outliers = []\n",
        "for column in data.columns:\n",
        "    column_data = data[column]\n",
        "    z_scores = np.abs((column_data - column_data.mean()) / column_data.std())\n",
        "    column_outliers = column_data[z_scores > threshold]\n",
        "    if not column_outliers.empty:\n",
        "        outliers.append((column, column_outliers))\n",
        "\n",
        "# Print the outliers and their potential impact\n",
        "if outliers:\n",
        "    print(\"Outliers detected:\")\n",
        "    for column, column_outliers in outliers:\n",
        "        print(f\"Column: {column}\")\n",
        "        print(\"Outlier values:\")\n",
        "        print(column_outliers)\n",
        "        print(\"Potential impact on accuracy and reliability:\")\n",
        "        print(\"Outliers can significantly deviate from the overall pattern and may indicate measurement errors, data collection issues, or anomalies in the system being measured. It is important to carefully examine and verify outliers to ensure accurate and reliable measurements.\")\n",
        "        print(\"-\" * 50)\n",
        "else:\n",
        "    print(\"No outliers found.\")"
      ],
      "metadata": {
        "id": "Y3cppRTh5a3g",
        "outputId": "db3b691e-8d8a-47e9-a5be-9112145d19a3",
        "colab": {
          "base_uri": "https://localhost:8080/"
        }
      },
      "execution_count": null,
      "outputs": [
        {
          "output_type": "stream",
          "name": "stdout",
          "text": [
            "Outliers detected:\n",
            "Column: S2\n",
            "Outlier values:\n",
            "120   -270\n",
            "Name: S2, dtype: int64\n",
            "Potential impact on accuracy and reliability:\n",
            "Outliers can significantly deviate from the overall pattern and may indicate measurement errors, data collection issues, or anomalies in the system being measured. It is important to carefully examine and verify outliers to ensure accurate and reliable measurements.\n",
            "--------------------------------------------------\n",
            "Column: S3\n",
            "Outlier values:\n",
            "11    500.0\n",
            "Name: S3, dtype: float64\n",
            "Potential impact on accuracy and reliability:\n",
            "Outliers can significantly deviate from the overall pattern and may indicate measurement errors, data collection issues, or anomalies in the system being measured. It is important to carefully examine and verify outliers to ensure accurate and reliable measurements.\n",
            "--------------------------------------------------\n"
          ]
        }
      ]
    }
  ]
}