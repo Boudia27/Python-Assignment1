{
 "cells": [
  {
   "cell_type": "code",
   "execution_count": 15,
   "id": "6d04038d",
   "metadata": {},
   "outputs": [],
   "source": [
    "import numpy as np\n",
    "import random\n",
    "import statistics\n",
    "from math import sqrt\n",
    "from scipy.stats import t\n",
    "from scipy.stats import norm"
   ]
  },
  {
   "cell_type": "code",
   "execution_count": 1,
   "id": "7c16f89a",
   "metadata": {},
   "outputs": [
    {
     "name": "stdout",
     "output_type": "stream",
     "text": [
      "Bedrooms: 1\tMean price: 130.67\tMedian price: 133\n",
      "Bedrooms: 2\tMean price: 171.25\tMedian price: 185\n",
      "Bedrooms: 3\tMean price: 246.57\tMedian price: 244\n",
      "Bedrooms: 4\tMean price: 309.00\tMedian price: 311\n",
      "Bedrooms: 5\tMean price: 405.50\tMedian price: 415\n",
      "Bedrooms: 6\tMean price: 488.00\tMedian price: 488\n"
     ]
    }
   ],
   "source": [
    "bedrooms = [1, 1, 1, 2, 2, 2, 2, 3, 3, 3, 3, 3, 3, 3, 4, 4, 4, 5, 5, 6]\n",
    "prices = [120, 133, 139, 185, 148, 160, 192, 205, 244, 213, 236, 280, 275, 273, 312, 311, 304, 415, 396, 488]\n",
    "\n",
    "# create a dictionary to store the mean and median of prices for each bedroom count\n",
    "bedroom_stats = {}\n",
    "\n",
    "# loop through the unique bedroom counts in the dataset\n",
    "for num_bedrooms in set(bedrooms):\n",
    "    # filter the prices for the current number of bedrooms\n",
    "    bedroom_prices = [prices[i] for i in range(len(bedrooms)) if bedrooms[i] == num_bedrooms]\n",
    "    # compute the mean and median of the prices\n",
    "    mean_price = sum(bedroom_prices) / len(bedroom_prices)\n",
    "    median_price = sorted(bedroom_prices)[len(bedroom_prices) // 2]\n",
    "    # store the mean and median in the dictionary\n",
    "    bedroom_stats[num_bedrooms] = {\"mean\": mean_price, \"median\": median_price}\n",
    "\n",
    "# print the results\n",
    "for num_bedrooms in bedroom_stats:\n",
    "    print(f\"Bedrooms: {num_bedrooms}\\tMean price: {bedroom_stats[num_bedrooms]['mean']:.2f}\\tMedian price: {bedroom_stats[num_bedrooms]['median']}\")\n"
   ]
  },
  {
   "cell_type": "markdown",
   "id": "21ea0ba1",
   "metadata": {},
   "source": [
    "###  Extracts a random sample of size 10 from the Bedrooms data points"
   ]
  },
  {
   "cell_type": "code",
   "execution_count": 10,
   "id": "57b195fb",
   "metadata": {},
   "outputs": [
    {
     "name": "stdout",
     "output_type": "stream",
     "text": [
      "[1, 5, 3, 1, 1, 4, 2, 5, 3, 3]\n"
     ]
    }
   ],
   "source": [
    "bedrooms = [1, 1, 1, 2, 2, 2, 2, 3, 3, 3, 3, 3, 3, 3, 4, 4, 4, 5, 5, 6]\n",
    "\n",
    "random_sample = random.sample(bedrooms, k=10)\n",
    "\n",
    "print(random_sample)"
   ]
  },
  {
   "cell_type": "markdown",
   "id": "c9e112bc",
   "metadata": {},
   "source": [
    "### Compute the mean and standard deviation of the sample"
   ]
  },
  {
   "cell_type": "code",
   "execution_count": 5,
   "id": "daeaefd5",
   "metadata": {},
   "outputs": [
    {
     "name": "stdout",
     "output_type": "stream",
     "text": [
      "The mean of the population is: 3.00\n"
     ]
    }
   ],
   "source": [
    "bedrooms = [1, 1, 1, 2, 2, 2, 2, 3, 3, 3, 3, 3, 3, 3, 4, 4, 4, 5, 5, 6]\n",
    "mean = statistics.mean(bedrooms)\n",
    "print(f\"The mean of the population is: {mean:.2f}\")"
   ]
  },
  {
   "cell_type": "markdown",
   "id": "7a3aa8c8",
   "metadata": {},
   "source": [
    "### Compute the the mean of the population"
   ]
  },
  {
   "cell_type": "code",
   "execution_count": 7,
   "id": "bbdfd3f8",
   "metadata": {},
   "outputs": [
    {
     "name": "stdout",
     "output_type": "stream",
     "text": [
      "The mean of the population is: 251.45\n"
     ]
    }
   ],
   "source": [
    "prices = [120, 133, 139, 185, 148, 160, 192, 205, 244, 213, 236, 280, 275, 273, 312, 311, 304, 415, 396, 488]\n",
    "\n",
    "mean = statistics.mean(prices)\n",
    "\n",
    "print(f\"The mean of the population is: {mean:.2f}\")"
   ]
  },
  {
   "cell_type": "markdown",
   "id": "a76d1bbb",
   "metadata": {},
   "source": [
    "### Computer the confidence interval of 95% using the sample "
   ]
  },
  {
   "cell_type": "code",
   "execution_count": 11,
   "id": "2bd775ec",
   "metadata": {},
   "outputs": [
    {
     "name": "stdout",
     "output_type": "stream",
     "text": [
      "The 95% confidence interval is: (196.13, 360.67)\n"
     ]
    }
   ],
   "source": [
    "prices = [120, 133, 139, 185, 148, 160, 192, 205, 244, 213, 236, 280, 275, 273, 312, 311, 304, 415, 396, 488]\n",
    "\n",
    "sample = np.random.choice(prices, size=10)\n",
    "\n",
    "sample_mean = np.mean(sample)\n",
    "sample_std = np.std(sample, ddof=1)\n",
    "n = len(sample)\n",
    "t_value = t.ppf(0.975, n - 1)\n",
    "\n",
    "margin_of_error = t_value * sample_std / np.sqrt(n)\n",
    "confidence_interval = (sample_mean - margin_of_error, sample_mean + margin_of_error)\n",
    "\n",
    "print(f\"The 95% confidence interval is: ({confidence_interval[0]:.2f}, {confidence_interval[1]:.2f})\")\n"
   ]
  },
  {
   "cell_type": "markdown",
   "id": "a5f3323f",
   "metadata": {},
   "source": [
    "### Check if the population mean lies between the upper and lower bounds of the interval\n",
    "Cl=x ̅  ±z.a/√n"
   ]
  },
  {
   "cell_type": "code",
   "execution_count": 14,
   "id": "9506b0f0",
   "metadata": {},
   "outputs": [
    {
     "name": "stdout",
     "output_type": "stream",
     "text": [
      "The population mean is within the confidence interval.\n"
     ]
    }
   ],
   "source": [
    "prices = [120, 133, 139, 185, 148, 160, 192, 205, 244, 213, 236, 280, 275, 273, 312, 311, 304, 415, 396, 488]\n",
    "\n",
    "sample = np.random.choice(prices, size=10)\n",
    "\n",
    "sample_mean = np.mean(sample)\n",
    "sample_std = np.std(sample, ddof=1)\n",
    "n = len(sample)\n",
    "z_critical = norm.ppf(0.975)\n",
    "\n",
    "margin_of_error = z_critical * sample_std / np.sqrt(n)\n",
    "confidence_interval = (sample_mean - margin_of_error, sample_mean + margin_of_error)\n",
    "\n",
    "population_mean = np.mean(prices)\n",
    "\n",
    "if confidence_interval[0] <= population_mean <= confidence_interval[1]:\n",
    "    print(\"The population mean is within the confidence interval.\")\n",
    "else:\n",
    "    print(\"The population mean is outside the confidence interval.\")\n"
   ]
  },
  {
   "cell_type": "code",
   "execution_count": null,
   "id": "85483620",
   "metadata": {},
   "outputs": [],
   "source": []
  }
 ],
 "metadata": {
  "kernelspec": {
   "display_name": "Python 3 (ipykernel)",
   "language": "python",
   "name": "python3"
  },
  "language_info": {
   "codemirror_mode": {
    "name": "ipython",
    "version": 3
   },
   "file_extension": ".py",
   "mimetype": "text/x-python",
   "name": "python",
   "nbconvert_exporter": "python",
   "pygments_lexer": "ipython3",
   "version": "3.9.13"
  }
 },
 "nbformat": 4,
 "nbformat_minor": 5
}
